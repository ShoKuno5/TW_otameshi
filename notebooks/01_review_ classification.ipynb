{
 "cells": [
  {
   "cell_type": "markdown",
   "metadata": {},
   "source": [
    "# GPTでレビュー分類"
   ]
  },
  {
   "cell_type": "code",
   "execution_count": 81,
   "metadata": {},
   "outputs": [],
   "source": [
    "# 必要なライブラリをインポート\n",
    "import pandas as pd\n",
    "import numpy as np\n",
    "import re\n",
    "import matplotlib.pyplot as plt\n",
    "import json\n",
    "\n",
    "# Jupyter Notebook用の設定\n",
    "%matplotlib inline"
   ]
  },
  {
   "cell_type": "code",
   "execution_count": null,
   "metadata": {},
   "outputs": [],
   "source": [
    "# データのパス\n",
    "data_path = 'data/raw/android.json'\n",
    "\n",
    "# データ読み込み\n",
    "with open(data_path, 'r', encoding='utf-8') as file:\n",
    "    data = json.load(file)\n",
    "    \n",
    "df = pd.DataFrame(data['data'])\n",
    "\n",
    "# データの基本情報を確認\n",
    "print(f\"データサイズ: {df.shape}\")\n",
    "df.head()"
   ]
  },
  {
   "cell_type": "code",
   "execution_count": 83,
   "metadata": {},
   "outputs": [],
   "source": [
    "import openai\n",
    "import os\n",
    "\n",
    "# OpenAI APIのキーを環境変数から取得\n",
    "openai.api_key = os.getenv(\"OPENAI_API_KEY\")\n",
    "\n",
    "#print(os.getenv(\"OPENAI_API_KEY\"))  # APIキーが表示されれば成功"
   ]
  },
  {
   "cell_type": "code",
   "execution_count": null,
   "metadata": {},
   "outputs": [],
   "source": [
    "import os\n",
    "from openai import OpenAI\n",
    "\n",
    "client = OpenAI(\n",
    "    api_key=os.environ.get(\"OPENAI_API_KEY\"),  # This is the default and can be omitted\n",
    ")\n",
    "\n",
    "# テスト用の文章を生成\n",
    "try:\n",
    "    chat_completion = client.chat.completions.create(\n",
    "        model=\"gpt-4o\",  # 正しいモデル名\n",
    "        messages=[\n",
    "            {\n",
    "                \"role\": \"system\",\n",
    "                \"content\": \"レビューの重要な情報を保持しながら、ポジティブな意見とネガティブな意見に分類しクリーニングしてください。\",\n",
    "            },\n",
    "            {\n",
    "                \"role\": \"user\",\n",
    "                \"content\": \"レビュー: このアプリ、まあまあだけどy使いにくい😄部分もあります。\",\n",
    "            }\n",
    "        ]\n",
    "    )\n",
    "    # 応答内容を表示\n",
    "    print(chat_completion.choices[0].message.content)\n",
    "except openai.error.OpenAIError as e:\n",
    "    print(f\"OpenAI API エラー: {e}\")"
   ]
  },
  {
   "cell_type": "code",
   "execution_count": null,
   "metadata": {},
   "outputs": [],
   "source": [
    "# GPTを用いたクリーニング用の関数を定義\n",
    "\n",
    "def clean_review_with_gpt(review):\n",
    "    try:\n",
    "        chat_completion = client.chat.completions.create(\n",
    "            model=\"gpt-4o\",  # 正しいモデル名\n",
    "            messages=[\n",
    "            {\n",
    "                \"role\": \"system\",\n",
    "                \"content\": \"レビューの重要な情報を出来るだけ保持しながら、ポジティブな意見とネガティブな意見に分類してください。その際，必要であればクリーニングしてください。特にポジティブな意見またはネガティブな意見がない場合は「特になし」と答えてください。\",\n",
    "            },\n",
    "            {\n",
    "                \"role\": \"user\",\n",
    "                \"content\": f\"レビュー: {review}\",\n",
    "            }\n",
    "            ]\n",
    "        )\n",
    "        return chat_completion.choices[0].message.content\n",
    "    except openai.error.OpenAIError as e:\n",
    "        print(f\"OpenAI API エラー: {e}\")\n",
    "        return None\n",
    "    \n",
    "# テスト用のレビュー\n",
    "review = \"このアプリ、まあまあだけど使いにくい😄部分もあります。\"\n",
    "\n",
    "# レビューのクリーニング\n",
    "cleaned_review = clean_review_with_gpt(review)\n",
    "\n",
    "# クリーニング後のレビューを表示\n",
    "print(cleaned_review)"
   ]
  },
  {
   "cell_type": "code",
   "execution_count": null,
   "metadata": {},
   "outputs": [],
   "source": [
    "# dfのtextに対して，clean_review_with_gpt関数を適用．ポジティブな意見とネガティブな意見を分類しクリーニング，結果をポジティブな意見とネガティブな意見の二つの新たなカラムとして追加\n",
    "def extract_reviews(cleaned_review):\n",
    "    positive_review = re.search(r'ポジティブな意見:\\s*(.*)', cleaned_review)\n",
    "    negative_review = re.search(r'ネガティブな意見:\\s*(.*)', cleaned_review)\n",
    "    return positive_review.group(1) if positive_review else '', negative_review.group(1) if negative_review else ''\n",
    "\n",
    "# まずは最初の10件に対してクリーニングを行う\n",
    "#df[['positive_review', 'negative_review']] = df['text'].head(10).apply(lambda x: pd.Series(extract_reviews(clean_review_with_gpt(x))))\n",
    "\n",
    "df[['positive_review', 'negative_review']] = df['text'].apply(lambda x: pd.Series(extract_reviews(clean_review_with_gpt(x))))\n",
    "\n",
    "# データの確認\n",
    "df"
   ]
  },
  {
   "cell_type": "code",
   "execution_count": 87,
   "metadata": {},
   "outputs": [],
   "source": [
    "# クリーニング後のデータを保存\n",
    "df.to_csv('data/processed/android_cleaned.csv', index=False)"
   ]
  }
 ],
 "metadata": {
  "kernelspec": {
   "display_name": "project-root-rWJ-GWg1-py3.12",
   "language": "python",
   "name": "python3"
  },
  "language_info": {
   "codemirror_mode": {
    "name": "ipython",
    "version": 3
   },
   "file_extension": ".py",
   "mimetype": "text/x-python",
   "name": "python",
   "nbconvert_exporter": "python",
   "pygments_lexer": "ipython3",
   "version": "3.12.4"
  }
 },
 "nbformat": 4,
 "nbformat_minor": 2
}
