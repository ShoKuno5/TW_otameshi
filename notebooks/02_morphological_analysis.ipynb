{
 "cells": [
  {
   "cell_type": "markdown",
   "metadata": {},
   "source": [
    "# Mecabを用いた形態素解析によるクリーニング"
   ]
  },
  {
   "cell_type": "code",
   "execution_count": 1,
   "metadata": {},
   "outputs": [],
   "source": [
    "# 必要なライブラリをインポート\n",
    "import pandas as pd\n",
    "import numpy as np\n",
    "import re\n",
    "import matplotlib.pyplot as plt\n",
    "import json\n",
    "\n",
    "# Jupyter Notebook用の設定\n",
    "%matplotlib inline"
   ]
  },
  {
   "cell_type": "code",
   "execution_count": null,
   "metadata": {},
   "outputs": [],
   "source": [
    "# データのパス\n",
    "data_path = 'data/processed/android_cleaned.csv'\n",
    "\n",
    "# データの読み込み\n",
    "df = pd.read_csv(data_path)\n",
    "\n",
    "# データの基本情報を確認\n",
    "print(f\"データサイズ: {df.shape}\")\n",
    "df.head()"
   ]
  },
  {
   "cell_type": "code",
   "execution_count": null,
   "metadata": {},
   "outputs": [],
   "source": [
    "# データのpositive_review, negative_reviewが「特になし」または「特になし。」を含む場合は，その欄を「-」に変換\n",
    "\n",
    "df['positive_review'] = df['positive_review'].fillna('').apply(lambda x: '-' if '特になし' in x else x)\n",
    "df['negative_review'] = df['negative_review'].fillna('').apply(lambda x: '-' if '特になし' in x else x)\n",
    "\n",
    "# データのpositive_review, negative_reviewが欠損している or 空白の場合は，その欄を「-」に変換\n",
    "\n",
    "df['positive_review'] = df['positive_review'].replace('', '-')\n",
    "df['negative_review'] = df['negative_review'].replace('', '-')\n",
    "\n",
    "df.head()"
   ]
  },
  {
   "cell_type": "code",
   "execution_count": null,
   "metadata": {},
   "outputs": [],
   "source": [
    "!pip show mecab-python3"
   ]
  },
  {
   "cell_type": "code",
   "execution_count": null,
   "metadata": {},
   "outputs": [],
   "source": [
    "import MeCab\n",
    "print(MeCab.VERSION)\n"
   ]
  },
  {
   "cell_type": "code",
   "execution_count": null,
   "metadata": {},
   "outputs": [],
   "source": [
    "import MeCab\n",
    "\n",
    "# mecabrcのパスを明示的に指定\n",
    "mecab = MeCab.Tagger(\"-d /opt/homebrew/lib/mecab/dic/mecab-ipadic-neologd -r /opt/homebrew/etc/mecabrc\")\n",
    "\n",
    "# テキスト解析\n",
    "print(mecab.parse(\"形態素解析を試してみます。\"))\n"
   ]
  },
  {
   "cell_type": "code",
   "execution_count": null,
   "metadata": {},
   "outputs": [],
   "source": [
    "review_document = 'このサイズ感が素晴らしいです。'\n",
    "ochasen_tagger = MeCab.Tagger(\"-d /opt/homebrew/lib/mecab/dic/mecab-ipadic-neologd -r /opt/homebrew/etc/mecabrc\")\n",
    "node = ochasen_tagger.parse(review_document)\n",
    "\n",
    "print(node)"
   ]
  },
  {
   "cell_type": "code",
   "execution_count": null,
   "metadata": {},
   "outputs": [],
   "source": [
    "def lemmatize_entities(entity_list, ochasen_tagger):\n",
    "    for i, entity in enumerate(entity_list):\n",
    "        node = ochasen_tagger.parse(entity)\n",
    "        lines = node.split(\"\\n\")\n",
    "        for line in lines[:-2]:  # 最後のEOSや空行を無視\n",
    "            fields = line.split(\"\\t\")\n",
    "            print(fields)  # デバッグ用\n",
    "            \n",
    "            if len(fields) >= 2:\n",
    "                # fields[1]をカンマで分割\n",
    "                features = fields[1].split(\",\")\n",
    "                # features[6]が原形（基本形）\n",
    "                if len(features) > 6:\n",
    "                    entity_list[i] = features[6]\n",
    "    return entity_list\n",
    "\n",
    "# 入力リスト\n",
    "entity_list = ['強い', '強く', '強']\n",
    "\n",
    "# 関数の実行\n",
    "lemmatized_list = lemmatize_entities(entity_list, ochasen_tagger)\n",
    "print(\"結果:\", lemmatized_list)\n"
   ]
  },
  {
   "cell_type": "code",
   "execution_count": null,
   "metadata": {},
   "outputs": [],
   "source": [
    "def extract_keywords(review_document, ochasen_tagger):\n",
    "    review_keywords_list = []\n",
    "    node = ochasen_tagger.parse(review_document)\n",
    "    lines = node.split(\"\\n\")\n",
    "\n",
    "    for line in lines:\n",
    "        if line == \"EOS\" or line.strip() == \"\":\n",
    "            continue\n",
    "        fields = line.split(\"\\t\")\n",
    "        if len(fields) < 2:\n",
    "            continue\n",
    "\n",
    "        pos_info = fields[1].split(\",\")\n",
    "        pos_major = pos_info[0]  # 名詞,動詞,形容詞など\n",
    "        pos_sub1 = pos_info[1]   # 固有名詞,一般 などの細分類\n",
    "\n",
    "        if pos_major in [\"名詞\", \"形容詞\", \"動詞\"]:\n",
    "            review_keywords_list.append(fields[0])\n",
    "\n",
    "    return review_keywords_list\n",
    "\n",
    "# Example usage\n",
    "review_document = 'インストール済みアプリの広告動画で✕ボタンを押しそこねるとそのアプリが起動し、これが非常に邪魔。'\n",
    "keywords = extract_keywords(review_document, ochasen_tagger)\n",
    "print(keywords)\n"
   ]
  },
  {
   "cell_type": "code",
   "execution_count": null,
   "metadata": {},
   "outputs": [],
   "source": [
    "# データのpositive_review, negative_reviewに対して形態素解析を実行，結果を新たなカラムとして追加\n",
    "\n",
    "df['positive_review_keywords'] = df['positive_review'].apply(lambda x: extract_keywords(x, ochasen_tagger))\n",
    "df['negative_review_keywords'] = df['negative_review'].apply(lambda x: extract_keywords(x, ochasen_tagger))\n",
    "\n",
    "df.head()"
   ]
  },
  {
   "cell_type": "code",
   "execution_count": 11,
   "metadata": {},
   "outputs": [],
   "source": [
    "# データを保存\n",
    "\n",
    "df.to_csv('data/processed/android_cleaned_mecab.csv', index=False)"
   ]
  },
  {
   "cell_type": "code",
   "execution_count": null,
   "metadata": {},
   "outputs": [],
   "source": []
  }
 ],
 "metadata": {
  "kernelspec": {
   "display_name": "project-root-rWJ-GWg1-py3.12",
   "language": "python",
   "name": "python3"
  },
  "language_info": {
   "codemirror_mode": {
    "name": "ipython",
    "version": 3
   },
   "file_extension": ".py",
   "mimetype": "text/x-python",
   "name": "python",
   "nbconvert_exporter": "python",
   "pygments_lexer": "ipython3",
   "version": "3.12.4"
  }
 },
 "nbformat": 4,
 "nbformat_minor": 2
}
