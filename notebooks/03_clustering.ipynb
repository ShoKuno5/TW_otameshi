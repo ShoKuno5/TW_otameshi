{
 "cells": [
  {
   "cell_type": "code",
   "execution_count": 1,
   "metadata": {},
   "outputs": [],
   "source": [
    "# 必要なライブラリをインポート\n",
    "import pandas as pd\n",
    "import numpy as np\n",
    "import re\n",
    "import matplotlib.pyplot as plt\n",
    "import json\n",
    "\n",
    "# Jupyter Notebook用の設定\n",
    "%matplotlib inline"
   ]
  },
  {
   "cell_type": "code",
   "execution_count": null,
   "metadata": {},
   "outputs": [],
   "source": [
    "# データのパス\n",
    "data_path = 'data/processed/android_cleaned_mecab.csv'\n",
    "\n",
    "# データの読み込み\n",
    "df = pd.read_csv(data_path)\n",
    "\n",
    "# データの基本情報を確認\n",
    "print(f\"データサイズ: {df.shape}\")\n",
    "df.head()"
   ]
  },
  {
   "cell_type": "code",
   "execution_count": 3,
   "metadata": {},
   "outputs": [],
   "source": [
    "# データのnegative_review_keywordsに対してだけ，Topic Modelingを行う\n",
    "\n",
    "negative_review_keywords = df['negative_review_keywords'].dropna().tolist()"
   ]
  },
  {
   "cell_type": "code",
   "execution_count": 4,
   "metadata": {},
   "outputs": [],
   "source": [
    "import numpy as np\n",
    "def dummy_npwarn_decorator_factory():\n",
    "  def npwarn_decorator(x):\n",
    "    return x\n",
    "  return npwarn_decorator\n",
    "np._no_nep50_warning = getattr(np, '_no_nep50_warning', dummy_npwarn_decorator_factory)"
   ]
  },
  {
   "cell_type": "code",
   "execution_count": null,
   "metadata": {},
   "outputs": [],
   "source": [
    "from bertopic import BERTopic\n",
    "from hdbscan import HDBSCAN\n",
    "from umap import UMAP\n",
    "\n",
    "# umapとhdbscanのモデルを作成\n",
    "umap_model = UMAP(n_components=5, n_neighbors=15, min_dist=0.0)\n",
    "hdbscan_model = HDBSCAN(min_samples=10, gen_min_span_tree=True, prediction_data=True)\n",
    "\n",
    "# BERTopicモデルを作成\n",
    "\n",
    "topic_model = BERTopic(\n",
    "    language=\"japanese\",\n",
    "    calculate_probabilities=False,\n",
    "    verbose=True,\n",
    "    nr_topics=\"20\",\n",
    "    umap_model=umap_model, \n",
    "    hdbscan_model=hdbscan_model\n",
    "    )\n",
    "\n",
    "topics, probs = topic_model.fit_transform(negative_review_keywords)"
   ]
  },
  {
   "cell_type": "code",
   "execution_count": 21,
   "metadata": {},
   "outputs": [],
   "source": [
    "# モデルをsafetensorsで保存する\n",
    "topic_model.save('models/android_topic_model', serialization=\"safetensors\", save_embedding_model=True, save_ctfidf=True)"
   ]
  },
  {
   "cell_type": "code",
   "execution_count": null,
   "metadata": {},
   "outputs": [],
   "source": [
    "topic_model.get_topic_info()"
   ]
  },
  {
   "cell_type": "code",
   "execution_count": 20,
   "metadata": {},
   "outputs": [],
   "source": [
    "# トピックIDと名前の対応付け\n",
    "topic_mapping = topic_model.get_topic_info().set_index('Topic')['Name'].to_dict()\n",
    "\n",
    "# topics と probs はそれぞれリストまたは NumPy 配列と仮定\n",
    "# negative_review_keywords の行数と topics, probs の長さが一致している前提\n",
    "df['topic'] = topics  # トピックIDを新しい列 'topic' として追加\n",
    "df['topic_probability'] = probs  # トピック確率を新しい列 'topic_probability' として追加\n",
    "df['topic_name'] = df['topic'].map(topic_mapping)  # トピックIDをトピック名に変換\n",
    "\n",
    "# dfを保存\n",
    "df.to_csv('data/processed/android_cleaned_mecab_with_topics.csv', index=False)"
   ]
  },
  {
   "cell_type": "code",
   "execution_count": null,
   "metadata": {},
   "outputs": [],
   "source": [
    "topic_model.visualize_topics()"
   ]
  },
  {
   "cell_type": "code",
   "execution_count": null,
   "metadata": {},
   "outputs": [],
   "source": [
    "topic_model.visualize_hierarchy()"
   ]
  },
  {
   "cell_type": "code",
   "execution_count": null,
   "metadata": {},
   "outputs": [],
   "source": [
    "topic_model.visualize_barchart(\n",
    "    top_n_topics=14,\n",
    "    width=500,  # 幅を広げる\n",
    ")"
   ]
  },
  {
   "cell_type": "code",
   "execution_count": null,
   "metadata": {},
   "outputs": [],
   "source": [
    "# topics, probs = topic_model.fit_transform(negative_review_keywords)の結果を元のデータに新たなカラムとして追加\n",
    "\n",
    "df['topic'] = topics\n",
    "\n",
    "df"
   ]
  }
 ],
 "metadata": {
  "kernelspec": {
   "display_name": "project-root-rWJ-GWg1-py3.10",
   "language": "python",
   "name": "python3"
  },
  "language_info": {
   "codemirror_mode": {
    "name": "ipython",
    "version": 3
   },
   "file_extension": ".py",
   "mimetype": "text/x-python",
   "name": "python",
   "nbconvert_exporter": "python",
   "pygments_lexer": "ipython3",
   "version": "3.10.12"
  }
 },
 "nbformat": 4,
 "nbformat_minor": 2
}
