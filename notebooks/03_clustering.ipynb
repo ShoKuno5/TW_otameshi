{
 "cells": [
  {
   "cell_type": "code",
   "execution_count": 1,
   "metadata": {},
   "outputs": [],
   "source": [
    "# 必要なライブラリをインポート\n",
    "import pandas as pd\n",
    "import numpy as np\n",
    "import re\n",
    "import matplotlib.pyplot as plt\n",
    "import json\n",
    "\n",
    "# Jupyter Notebook用の設定\n",
    "%matplotlib inline"
   ]
  },
  {
   "cell_type": "code",
   "execution_count": 2,
   "metadata": {},
   "outputs": [
    {
     "name": "stdout",
     "output_type": "stream",
     "text": [
      "データサイズ: (1000, 18)\n"
     ]
    },
    {
     "data": {
      "text/html": [
       "<div>\n",
       "<style scoped>\n",
       "    .dataframe tbody tr th:only-of-type {\n",
       "        vertical-align: middle;\n",
       "    }\n",
       "\n",
       "    .dataframe tbody tr th {\n",
       "        vertical-align: top;\n",
       "    }\n",
       "\n",
       "    .dataframe thead th {\n",
       "        text-align: right;\n",
       "    }\n",
       "</style>\n",
       "<table border=\"1\" class=\"dataframe\">\n",
       "  <thead>\n",
       "    <tr style=\"text-align: right;\">\n",
       "      <th></th>\n",
       "      <th>id</th>\n",
       "      <th>userName</th>\n",
       "      <th>userImage</th>\n",
       "      <th>date</th>\n",
       "      <th>score</th>\n",
       "      <th>scoreText</th>\n",
       "      <th>url</th>\n",
       "      <th>title</th>\n",
       "      <th>text</th>\n",
       "      <th>replyDate</th>\n",
       "      <th>replyText</th>\n",
       "      <th>version</th>\n",
       "      <th>thumbsUp</th>\n",
       "      <th>criterias</th>\n",
       "      <th>positive_review</th>\n",
       "      <th>negative_review</th>\n",
       "      <th>positive_review_keywords</th>\n",
       "      <th>negative_review_keywords</th>\n",
       "    </tr>\n",
       "  </thead>\n",
       "  <tbody>\n",
       "    <tr>\n",
       "      <th>0</th>\n",
       "      <td>9e31e6b7-605a-4b6b-9146-5a17644ba6b8</td>\n",
       "      <td>シュン</td>\n",
       "      <td>https://play-lh.googleusercontent.com/a/ACg8oc...</td>\n",
       "      <td>2024-11-23T14:01:42.496Z</td>\n",
       "      <td>1</td>\n",
       "      <td>1</td>\n",
       "      <td>https://play.google.com/store/apps/details?id=...</td>\n",
       "      <td>NaN</td>\n",
       "      <td>インストール済みアプリの広告動画で✕ボタンを押しそこねた場合、そのアプリが起動するのが凄く邪...</td>\n",
       "      <td>2024-09-16T08:11:04.465Z</td>\n",
       "      <td>いつもアプリをお使いいただき、ありがとうございます。\\n動画広告について、貴重なご意見を頂き...</td>\n",
       "      <td>9.6.2</td>\n",
       "      <td>70</td>\n",
       "      <td>[]</td>\n",
       "      <td>-</td>\n",
       "      <td>- インストール済みアプリの広告動画で✕ボタンを押しそこねるとそのアプリが起動し、これが非常...</td>\n",
       "      <td>[]</td>\n",
       "      <td>['インストール', '済み', 'アプリ', '広告', '動画', 'ボタン', '押し...</td>\n",
       "    </tr>\n",
       "    <tr>\n",
       "      <th>1</th>\n",
       "      <td>052823d1-61ed-4374-8a70-348fd02cd274</td>\n",
       "      <td>Asami Shikata</td>\n",
       "      <td>https://play-lh.googleusercontent.com/a/ACg8oc...</td>\n",
       "      <td>2024-11-23T11:00:06.814Z</td>\n",
       "      <td>3</td>\n",
       "      <td>3</td>\n",
       "      <td>https://play.google.com/store/apps/details?id=...</td>\n",
       "      <td>NaN</td>\n",
       "      <td>9.6.2 指摘した問題案件の改善されず。( 9.5.0 地図は表示される様になった、でも、...</td>\n",
       "      <td>2024-10-29T06:47:35.118Z</td>\n",
       "      <td>いつもアプリをお使いいただき、ありがとうございます！\\n地図のリストをタップしても非表示にな...</td>\n",
       "      <td>9.6.2</td>\n",
       "      <td>1</td>\n",
       "      <td>[{'criteria': 'vaf_never_display_disruptive_ad...</td>\n",
       "      <td>-</td>\n",
       "      <td>- 指摘した問題が改善されていない</td>\n",
       "      <td>[]</td>\n",
       "      <td>['指摘', 'し', '問題', '改善', 'さ', 'れ', 'い']</td>\n",
       "    </tr>\n",
       "    <tr>\n",
       "      <th>2</th>\n",
       "      <td>2bd1806d-3415-4ac6-9db2-70800303fc48</td>\n",
       "      <td>酒井雄太</td>\n",
       "      <td>https://play-lh.googleusercontent.com/a-/ALV-U...</td>\n",
       "      <td>2024-11-22T21:54:44.660Z</td>\n",
       "      <td>4</td>\n",
       "      <td>4</td>\n",
       "      <td>https://play.google.com/store/apps/details?id=...</td>\n",
       "      <td>NaN</td>\n",
       "      <td>Wi-Fiがある場所で自動的に接続できるので便利だと思います。</td>\n",
       "      <td>NaN</td>\n",
       "      <td>NaN</td>\n",
       "      <td>NaN</td>\n",
       "      <td>0</td>\n",
       "      <td>[]</td>\n",
       "      <td>Wi-Fiがある場所で自動的に接続できるので便利。</td>\n",
       "      <td>-</td>\n",
       "      <td>['Wi-Fi', 'ある', '場所', '自動的', '接続', 'できる', '便利']</td>\n",
       "      <td>[]</td>\n",
       "    </tr>\n",
       "    <tr>\n",
       "      <th>3</th>\n",
       "      <td>62bedb1c-1dd6-4807-8544-a04ceda38826</td>\n",
       "      <td>菅原金二郎</td>\n",
       "      <td>https://play-lh.googleusercontent.com/a/ACg8oc...</td>\n",
       "      <td>2024-11-22T20:53:26.341Z</td>\n",
       "      <td>2</td>\n",
       "      <td>2</td>\n",
       "      <td>https://play.google.com/store/apps/details?id=...</td>\n",
       "      <td>NaN</td>\n",
       "      <td>CMが多い ５秒から30秒動画が流れます</td>\n",
       "      <td>NaN</td>\n",
       "      <td>NaN</td>\n",
       "      <td>9.6.2</td>\n",
       "      <td>0</td>\n",
       "      <td>[]</td>\n",
       "      <td>-</td>\n",
       "      <td>CMが多く、5秒から30秒の動画が流れる</td>\n",
       "      <td>[]</td>\n",
       "      <td>['CM', '多く', '5秒', '30秒', '動画', '流れる']</td>\n",
       "    </tr>\n",
       "    <tr>\n",
       "      <th>4</th>\n",
       "      <td>f67f4c45-f19c-4f7b-b792-6c703bb05915</td>\n",
       "      <td>みかん</td>\n",
       "      <td>https://play-lh.googleusercontent.com/a/ACg8oc...</td>\n",
       "      <td>2024-11-22T20:23:41.626Z</td>\n",
       "      <td>5</td>\n",
       "      <td>5</td>\n",
       "      <td>https://play.google.com/store/apps/details?id=...</td>\n",
       "      <td>NaN</td>\n",
       "      <td>モバイルスマホを使っていますが、ネット回線が無くてもGMOWiFiで問題なく 検索やネット回...</td>\n",
       "      <td>2024-11-25T01:08:32.912Z</td>\n",
       "      <td>いつもアプリをお使いいただき、ありがとうございます！\\n\\n外出時のWiFi利用にお役立てい...</td>\n",
       "      <td>9.6.2</td>\n",
       "      <td>0</td>\n",
       "      <td>[]</td>\n",
       "      <td>ネット回線が無くてもGMOWiFiで問題なく検索やネット回線が使用できるところ。</td>\n",
       "      <td>-</td>\n",
       "      <td>['ネット', '回線', '無く', 'GMOWiFi', '問題', '検索', 'ネッ...</td>\n",
       "      <td>[]</td>\n",
       "    </tr>\n",
       "  </tbody>\n",
       "</table>\n",
       "</div>"
      ],
      "text/plain": [
       "                                     id       userName  \\\n",
       "0  9e31e6b7-605a-4b6b-9146-5a17644ba6b8            シュン   \n",
       "1  052823d1-61ed-4374-8a70-348fd02cd274  Asami Shikata   \n",
       "2  2bd1806d-3415-4ac6-9db2-70800303fc48           酒井雄太   \n",
       "3  62bedb1c-1dd6-4807-8544-a04ceda38826          菅原金二郎   \n",
       "4  f67f4c45-f19c-4f7b-b792-6c703bb05915            みかん   \n",
       "\n",
       "                                           userImage  \\\n",
       "0  https://play-lh.googleusercontent.com/a/ACg8oc...   \n",
       "1  https://play-lh.googleusercontent.com/a/ACg8oc...   \n",
       "2  https://play-lh.googleusercontent.com/a-/ALV-U...   \n",
       "3  https://play-lh.googleusercontent.com/a/ACg8oc...   \n",
       "4  https://play-lh.googleusercontent.com/a/ACg8oc...   \n",
       "\n",
       "                       date  score  scoreText  \\\n",
       "0  2024-11-23T14:01:42.496Z      1          1   \n",
       "1  2024-11-23T11:00:06.814Z      3          3   \n",
       "2  2024-11-22T21:54:44.660Z      4          4   \n",
       "3  2024-11-22T20:53:26.341Z      2          2   \n",
       "4  2024-11-22T20:23:41.626Z      5          5   \n",
       "\n",
       "                                                 url  title  \\\n",
       "0  https://play.google.com/store/apps/details?id=...    NaN   \n",
       "1  https://play.google.com/store/apps/details?id=...    NaN   \n",
       "2  https://play.google.com/store/apps/details?id=...    NaN   \n",
       "3  https://play.google.com/store/apps/details?id=...    NaN   \n",
       "4  https://play.google.com/store/apps/details?id=...    NaN   \n",
       "\n",
       "                                                text  \\\n",
       "0  インストール済みアプリの広告動画で✕ボタンを押しそこねた場合、そのアプリが起動するのが凄く邪...   \n",
       "1  9.6.2 指摘した問題案件の改善されず。( 9.5.0 地図は表示される様になった、でも、...   \n",
       "2                    Wi-Fiがある場所で自動的に接続できるので便利だと思います。   \n",
       "3                               CMが多い ５秒から30秒動画が流れます   \n",
       "4  モバイルスマホを使っていますが、ネット回線が無くてもGMOWiFiで問題なく 検索やネット回...   \n",
       "\n",
       "                  replyDate  \\\n",
       "0  2024-09-16T08:11:04.465Z   \n",
       "1  2024-10-29T06:47:35.118Z   \n",
       "2                       NaN   \n",
       "3                       NaN   \n",
       "4  2024-11-25T01:08:32.912Z   \n",
       "\n",
       "                                           replyText version  thumbsUp  \\\n",
       "0  いつもアプリをお使いいただき、ありがとうございます。\\n動画広告について、貴重なご意見を頂き...   9.6.2        70   \n",
       "1  いつもアプリをお使いいただき、ありがとうございます！\\n地図のリストをタップしても非表示にな...   9.6.2         1   \n",
       "2                                                NaN     NaN         0   \n",
       "3                                                NaN   9.6.2         0   \n",
       "4  いつもアプリをお使いいただき、ありがとうございます！\\n\\n外出時のWiFi利用にお役立てい...   9.6.2         0   \n",
       "\n",
       "                                           criterias  \\\n",
       "0                                                 []   \n",
       "1  [{'criteria': 'vaf_never_display_disruptive_ad...   \n",
       "2                                                 []   \n",
       "3                                                 []   \n",
       "4                                                 []   \n",
       "\n",
       "                            positive_review  \\\n",
       "0                                         -   \n",
       "1                                         -   \n",
       "2               Wi-Fiがある場所で自動的に接続できるので便利。     \n",
       "3                                         -   \n",
       "4  ネット回線が無くてもGMOWiFiで問題なく検索やネット回線が使用できるところ。   \n",
       "\n",
       "                                     negative_review  \\\n",
       "0  - インストール済みアプリの広告動画で✕ボタンを押しそこねるとそのアプリが起動し、これが非常...   \n",
       "1                                  - 指摘した問題が改善されていない   \n",
       "2                                                  -   \n",
       "3                               CMが多く、5秒から30秒の動画が流れる   \n",
       "4                                                  -   \n",
       "\n",
       "                            positive_review_keywords  \\\n",
       "0                                                 []   \n",
       "1                                                 []   \n",
       "2    ['Wi-Fi', 'ある', '場所', '自動的', '接続', 'できる', '便利']   \n",
       "3                                                 []   \n",
       "4  ['ネット', '回線', '無く', 'GMOWiFi', '問題', '検索', 'ネッ...   \n",
       "\n",
       "                            negative_review_keywords  \n",
       "0  ['インストール', '済み', 'アプリ', '広告', '動画', 'ボタン', '押し...  \n",
       "1             ['指摘', 'し', '問題', '改善', 'さ', 'れ', 'い']  \n",
       "2                                                 []  \n",
       "3             ['CM', '多く', '5秒', '30秒', '動画', '流れる']  \n",
       "4                                                 []  "
      ]
     },
     "execution_count": 2,
     "metadata": {},
     "output_type": "execute_result"
    }
   ],
   "source": [
    "# データのパス\n",
    "data_path = 'data/processed/android_cleaned_mecab.csv'\n",
    "\n",
    "# データの読み込み\n",
    "df = pd.read_csv(data_path)\n",
    "\n",
    "# データの基本情報を確認\n",
    "print(f\"データサイズ: {df.shape}\")\n",
    "df.head()"
   ]
  },
  {
   "cell_type": "code",
   "execution_count": 3,
   "metadata": {},
   "outputs": [],
   "source": [
    "# データのnegative_review_keywordsに対してだけ，Topic Modelingを行う\n",
    "\n",
    "negative_review_keywords = df['negative_review_keywords'].dropna().tolist()"
   ]
  },
  {
   "cell_type": "code",
   "execution_count": 4,
   "metadata": {},
   "outputs": [],
   "source": [
    "import numpy as np\n",
    "def dummy_npwarn_decorator_factory():\n",
    "  def npwarn_decorator(x):\n",
    "    return x\n",
    "  return npwarn_decorator\n",
    "np._no_nep50_warning = getattr(np, '_no_nep50_warning', dummy_npwarn_decorator_factory)"
   ]
  },
  {
   "cell_type": "code",
   "execution_count": 5,
   "metadata": {},
   "outputs": [
    {
     "name": "stderr",
     "output_type": "stream",
     "text": [
      "2024-12-19 11:27:54,622 - BERTopic - Embedding - Transforming documents to embeddings.\n"
     ]
    },
    {
     "data": {
      "application/vnd.jupyter.widget-view+json": {
       "model_id": "1ec4db29a66440ac97cba216cb71951f",
       "version_major": 2,
       "version_minor": 0
      },
      "text/plain": [
       "Batches:   0%|          | 0/32 [00:00<?, ?it/s]"
      ]
     },
     "metadata": {},
     "output_type": "display_data"
    },
    {
     "name": "stderr",
     "output_type": "stream",
     "text": [
      "2024-12-19 11:28:01,442 - BERTopic - Embedding - Completed ✓\n",
      "2024-12-19 11:28:01,443 - BERTopic - Dimensionality - Fitting the dimensionality reduction algorithm\n",
      "OMP: Info #276: omp_set_nested routine deprecated, please use omp_set_max_active_levels instead.\n",
      "2024-12-19 11:28:06,080 - BERTopic - Dimensionality - Completed ✓\n",
      "2024-12-19 11:28:06,080 - BERTopic - Cluster - Start clustering the reduced embeddings\n",
      "2024-12-19 11:28:06,103 - BERTopic - Cluster - Completed ✓\n",
      "2024-12-19 11:28:06,104 - BERTopic - Representation - Extracting topics from clusters using representation models.\n",
      "2024-12-19 11:28:06,121 - BERTopic - Representation - Completed ✓\n",
      "2024-12-19 11:28:06,122 - BERTopic - Topic reduction - Reducing number of topics\n",
      "2024-12-19 11:28:06,136 - BERTopic - Topic reduction - Reduced number of topics from 14 to 14\n"
     ]
    }
   ],
   "source": [
    "from bertopic import BERTopic\n",
    "from hdbscan import HDBSCAN\n",
    "from umap import UMAP\n",
    "\n",
    "# umapとhdbscanのモデルを作成\n",
    "umap_model = UMAP(n_components=5, n_neighbors=15, min_dist=0.0)\n",
    "hdbscan_model = HDBSCAN(min_samples=10, gen_min_span_tree=True, prediction_data=True)\n",
    "\n",
    "# BERTopicモデルを作成\n",
    "\n",
    "topic_model = BERTopic(\n",
    "    language=\"japanese\",\n",
    "    calculate_probabilities=False,\n",
    "    verbose=True,\n",
    "    nr_topics=\"20\",\n",
    "    umap_model=umap_model, \n",
    "    hdbscan_model=hdbscan_model\n",
    "    )\n",
    "\n",
    "topics, probs = topic_model.fit_transform(negative_review_keywords)"
   ]
  },
  {
   "cell_type": "code",
   "execution_count": 21,
   "metadata": {},
   "outputs": [],
   "source": [
    "# モデルをsafetensorsで保存する\n",
    "topic_model.save('models/android_topic_model', serialization=\"safetensors\", save_embedding_model=True, save_ctfidf=True)"
   ]
  },
  {
   "cell_type": "code",
   "execution_count": 6,
   "metadata": {},
   "outputs": [
    {
     "data": {
      "text/html": [
       "<div>\n",
       "<style scoped>\n",
       "    .dataframe tbody tr th:only-of-type {\n",
       "        vertical-align: middle;\n",
       "    }\n",
       "\n",
       "    .dataframe tbody tr th {\n",
       "        vertical-align: top;\n",
       "    }\n",
       "\n",
       "    .dataframe thead th {\n",
       "        text-align: right;\n",
       "    }\n",
       "</style>\n",
       "<table border=\"1\" class=\"dataframe\">\n",
       "  <thead>\n",
       "    <tr style=\"text-align: right;\">\n",
       "      <th></th>\n",
       "      <th>Topic</th>\n",
       "      <th>Count</th>\n",
       "      <th>Name</th>\n",
       "      <th>Representation</th>\n",
       "      <th>Representative_Docs</th>\n",
       "    </tr>\n",
       "  </thead>\n",
       "  <tbody>\n",
       "    <tr>\n",
       "      <th>0</th>\n",
       "      <td>-1</td>\n",
       "      <td>145</td>\n",
       "      <td>-1_いる_不満_こと_ポイント</td>\n",
       "      <td>[いる, 不満, こと, ポイント, なっ, 感じ, ゲーム, よう, する, ため]</td>\n",
       "      <td>[['いら', 'ミッション', 'せい', '他', 'アプリ', '使え', 'なり',...</td>\n",
       "    </tr>\n",
       "    <tr>\n",
       "      <th>1</th>\n",
       "      <td>0</td>\n",
       "      <td>369</td>\n",
       "      <td>0____</td>\n",
       "      <td>[, , , , , , , , , ]</td>\n",
       "      <td>[[], [], []]</td>\n",
       "    </tr>\n",
       "    <tr>\n",
       "      <th>2</th>\n",
       "      <td>1</td>\n",
       "      <td>100</td>\n",
       "      <td>1_広告_れる_表示_多く</td>\n",
       "      <td>[広告, れる, 表示, 多く, する, 閉じる, 詐欺, こと, ボタン, ロード]</td>\n",
       "      <td>[['広告', '読み込み', '時間', 'かかり', '再生', 'さ', 'れ', '...</td>\n",
       "    </tr>\n",
       "    <tr>\n",
       "      <th>3</th>\n",
       "      <td>2</td>\n",
       "      <td>86</td>\n",
       "      <td>2_動画_再生_視聴_ポイント</td>\n",
       "      <td>[動画, 再生, 視聴, ポイント, でき, 時間, こと, ロード, ため, 問題]</td>\n",
       "      <td>[['動画', '再生', 'さ', 'れ'], ['動画', '再生', 'さ', 'れ'...</td>\n",
       "    </tr>\n",
       "    <tr>\n",
       "      <th>4</th>\n",
       "      <td>3</td>\n",
       "      <td>58</td>\n",
       "      <td>3_fi_wi_wifi_接続</td>\n",
       "      <td>[fi, wi, wifi, 接続, 繋がら, タウン, スポット, いる, でき, ある]</td>\n",
       "      <td>[['タウン', 'Wi-Fi', 'Wi-Fi', '使え', 'こと', 'ない'], ...</td>\n",
       "    </tr>\n",
       "    <tr>\n",
       "      <th>5</th>\n",
       "      <td>4</td>\n",
       "      <td>45</td>\n",
       "      <td>4_ポイント_交換_不満_こと</td>\n",
       "      <td>[ポイント, 交換, 不満, こと, でき, 増やし, 減る, なく, 貯め, 感じ]</td>\n",
       "      <td>[['貯め', 'ポイント', '更新', 'さ', 'れ', '連絡', 'なく', 'ポ...</td>\n",
       "    </tr>\n",
       "    <tr>\n",
       "      <th>6</th>\n",
       "      <td>5</td>\n",
       "      <td>35</td>\n",
       "      <td>5_クイズ_難しい_難し_難点</td>\n",
       "      <td>[クイズ, 難しい, 難し, 難点, フリーズ, 上手く, わから, 感じる, 使い, にくい]</td>\n",
       "      <td>[['クイズ', '難し', '過ぎ'], ['クイズ', '難し', 'すぎる', '感じ...</td>\n",
       "    </tr>\n",
       "    <tr>\n",
       "      <th>7</th>\n",
       "      <td>6</td>\n",
       "      <td>33</td>\n",
       "      <td>6_アプリ_こと_表示_停止</td>\n",
       "      <td>[アプリ, こと, 表示, 停止, 古い, 消え, でき, 問題, 起動, アップデート]</td>\n",
       "      <td>[['アプリ', 'アップデート', '必要', 'メッセージ', '表示', 'さ', '...</td>\n",
       "    </tr>\n",
       "    <tr>\n",
       "      <th>8</th>\n",
       "      <td>7</td>\n",
       "      <td>33</td>\n",
       "      <td>7_接続_自動_繋がり_悪い</td>\n",
       "      <td>[接続, 自動, 繋がり, 悪い, vpn, つながり, でき, スタンプ, wifi, 問題]</td>\n",
       "      <td>[['接続', '自動', 'でき', 'こと', 'ある'], ['自動', '接続', ...</td>\n",
       "    </tr>\n",
       "    <tr>\n",
       "      <th>9</th>\n",
       "      <td>8</td>\n",
       "      <td>22</td>\n",
       "      <td>8_アップデート_インストール_バージョンアップ_なっ</td>\n",
       "      <td>[アップデート, インストール, バージョンアップ, なっ, エラー, ソフト, でき, た...</td>\n",
       "      <td>[['2024年', '5月15日', 'アップデート', '更新', 'さ', 'れ', ...</td>\n",
       "    </tr>\n",
       "    <tr>\n",
       "      <th>10</th>\n",
       "      <td>9</td>\n",
       "      <td>20</td>\n",
       "      <td>9_時間_かかり_すぎ_cm</td>\n",
       "      <td>[時間, かかり, すぎ, cm, ロード, 1分, ある, 読み込み, 遅く, いる]</td>\n",
       "      <td>[['最近', 'ロード', '時間', 'かかり', 'すぎ', 'ポイント', '取れ'...</td>\n",
       "    </tr>\n",
       "    <tr>\n",
       "      <th>11</th>\n",
       "      <td>10</td>\n",
       "      <td>20</td>\n",
       "      <td>10_良い_戻し_お知らせ_でき</td>\n",
       "      <td>[良い, 戻し, お知らせ, でき, 獲得, ほしい, 希望, アクション, ボーナス, ある]</td>\n",
       "      <td>[['広告', '閉じ', '後', 'ロード', '中', 'まま', '復帰', 'せ'...</td>\n",
       "    </tr>\n",
       "    <tr>\n",
       "      <th>12</th>\n",
       "      <td>11</td>\n",
       "      <td>19</td>\n",
       "      <td>11_問題_許可_ページ_ある</td>\n",
       "      <td>[問題, 許可, ページ, ある, 状態, 位置情報, 続い, れる, ロード, 頻繁]</td>\n",
       "      <td>[['位置', '確認', '許可', 'し', 'いる', '何', '十', 'メートル...</td>\n",
       "    </tr>\n",
       "    <tr>\n",
       "      <th>13</th>\n",
       "      <td>12</td>\n",
       "      <td>15</td>\n",
       "      <td>12_ポイント_貯まら_貯まり_にくい</td>\n",
       "      <td>[ポイント, 貯まら, 貯まり, にくい, たまり, 悪い, 仕組み, 翌日, 消滅, ちゃっ]</td>\n",
       "      <td>[['ポイント', '貯まり', '悪い'], ['ポイント', '貯まり', 'にくい']...</td>\n",
       "    </tr>\n",
       "  </tbody>\n",
       "</table>\n",
       "</div>"
      ],
      "text/plain": [
       "    Topic  Count                         Name  \\\n",
       "0      -1    145             -1_いる_不満_こと_ポイント   \n",
       "1       0    369                        0____   \n",
       "2       1    100                1_広告_れる_表示_多く   \n",
       "3       2     86              2_動画_再生_視聴_ポイント   \n",
       "4       3     58              3_fi_wi_wifi_接続   \n",
       "5       4     45              4_ポイント_交換_不満_こと   \n",
       "6       5     35              5_クイズ_難しい_難し_難点   \n",
       "7       6     33               6_アプリ_こと_表示_停止   \n",
       "8       7     33               7_接続_自動_繋がり_悪い   \n",
       "9       8     22  8_アップデート_インストール_バージョンアップ_なっ   \n",
       "10      9     20               9_時間_かかり_すぎ_cm   \n",
       "11     10     20             10_良い_戻し_お知らせ_でき   \n",
       "12     11     19              11_問題_許可_ページ_ある   \n",
       "13     12     15          12_ポイント_貯まら_貯まり_にくい   \n",
       "\n",
       "                                       Representation  \\\n",
       "0         [いる, 不満, こと, ポイント, なっ, 感じ, ゲーム, よう, する, ため]   \n",
       "1                                [, , , , , , , , , ]   \n",
       "2         [広告, れる, 表示, 多く, する, 閉じる, 詐欺, こと, ボタン, ロード]   \n",
       "3         [動画, 再生, 視聴, ポイント, でき, 時間, こと, ロード, ため, 問題]   \n",
       "4      [fi, wi, wifi, 接続, 繋がら, タウン, スポット, いる, でき, ある]   \n",
       "5         [ポイント, 交換, 不満, こと, でき, 増やし, 減る, なく, 貯め, 感じ]   \n",
       "6    [クイズ, 難しい, 難し, 難点, フリーズ, 上手く, わから, 感じる, 使い, にくい]   \n",
       "7       [アプリ, こと, 表示, 停止, 古い, 消え, でき, 問題, 起動, アップデート]   \n",
       "8    [接続, 自動, 繋がり, 悪い, vpn, つながり, でき, スタンプ, wifi, 問題]   \n",
       "9   [アップデート, インストール, バージョンアップ, なっ, エラー, ソフト, でき, た...   \n",
       "10       [時間, かかり, すぎ, cm, ロード, 1分, ある, 読み込み, 遅く, いる]   \n",
       "11   [良い, 戻し, お知らせ, でき, 獲得, ほしい, 希望, アクション, ボーナス, ある]   \n",
       "12       [問題, 許可, ページ, ある, 状態, 位置情報, 続い, れる, ロード, 頻繁]   \n",
       "13   [ポイント, 貯まら, 貯まり, にくい, たまり, 悪い, 仕組み, 翌日, 消滅, ちゃっ]   \n",
       "\n",
       "                                  Representative_Docs  \n",
       "0   [['いら', 'ミッション', 'せい', '他', 'アプリ', '使え', 'なり',...  \n",
       "1                                        [[], [], []]  \n",
       "2   [['広告', '読み込み', '時間', 'かかり', '再生', 'さ', 'れ', '...  \n",
       "3   [['動画', '再生', 'さ', 'れ'], ['動画', '再生', 'さ', 'れ'...  \n",
       "4   [['タウン', 'Wi-Fi', 'Wi-Fi', '使え', 'こと', 'ない'], ...  \n",
       "5   [['貯め', 'ポイント', '更新', 'さ', 'れ', '連絡', 'なく', 'ポ...  \n",
       "6   [['クイズ', '難し', '過ぎ'], ['クイズ', '難し', 'すぎる', '感じ...  \n",
       "7   [['アプリ', 'アップデート', '必要', 'メッセージ', '表示', 'さ', '...  \n",
       "8   [['接続', '自動', 'でき', 'こと', 'ある'], ['自動', '接続', ...  \n",
       "9   [['2024年', '5月15日', 'アップデート', '更新', 'さ', 'れ', ...  \n",
       "10  [['最近', 'ロード', '時間', 'かかり', 'すぎ', 'ポイント', '取れ'...  \n",
       "11  [['広告', '閉じ', '後', 'ロード', '中', 'まま', '復帰', 'せ'...  \n",
       "12  [['位置', '確認', '許可', 'し', 'いる', '何', '十', 'メートル...  \n",
       "13  [['ポイント', '貯まり', '悪い'], ['ポイント', '貯まり', 'にくい']...  "
      ]
     },
     "execution_count": 6,
     "metadata": {},
     "output_type": "execute_result"
    }
   ],
   "source": [
    "topic_model.get_topic_info()"
   ]
  },
  {
   "cell_type": "code",
   "execution_count": 20,
   "metadata": {},
   "outputs": [],
   "source": [
    "# トピックIDと名前の対応付け\n",
    "topic_mapping = topic_model.get_topic_info().set_index('Topic')['Name'].to_dict()\n",
    "\n",
    "# topics と probs はそれぞれリストまたは NumPy 配列と仮定\n",
    "# negative_review_keywords の行数と topics, probs の長さが一致している前提\n",
    "df['topic'] = topics  # トピックIDを新しい列 'topic' として追加\n",
    "df['topic_probability'] = probs  # トピック確率を新しい列 'topic_probability' として追加\n",
    "df['topic_name'] = df['topic'].map(topic_mapping)  # トピックIDをトピック名に変換\n",
    "\n",
    "# dfを保存\n",
    "df.to_csv('data/processed/android_cleaned_mecab_with_topics.csv', index=False)"
   ]
  },
  {
   "cell_type": "code",
   "execution_count": 7,
   "metadata": {},
   "outputs": [
    {
     "data": {
      "application/vnd.plotly.v1+json": {
       "config": {
        "plotlyServerURL": "https://plot.ly"
       },
       "data": [
        {
         "customdata": [
          [
           0,
           " |  |  |  | ",
           369
          ],
          [
           1,
           "広告 | れる | 表示 | 多く | する",
           100
          ],
          [
           2,
           "動画 | 再生 | 視聴 | ポイント | でき",
           86
          ],
          [
           3,
           "fi | wi | wifi | 接続 | 繋がら",
           58
          ],
          [
           4,
           "ポイント | 交換 | 不満 | こと | でき",
           45
          ],
          [
           5,
           "クイズ | 難しい | 難し | 難点 | フリーズ",
           35
          ],
          [
           6,
           "アプリ | こと | 表示 | 停止 | 古い",
           33
          ],
          [
           7,
           "接続 | 自動 | 繋がり | 悪い | vpn",
           33
          ],
          [
           8,
           "アップデート | インストール | バージョンアップ | なっ | エラー",
           22
          ],
          [
           9,
           "時間 | かかり | すぎ | cm | ロード",
           20
          ],
          [
           10,
           "良い | 戻し | お知らせ | でき | 獲得",
           20
          ],
          [
           11,
           "問題 | 許可 | ページ | ある | 状態",
           19
          ],
          [
           12,
           "ポイント | 貯まら | 貯まり | にくい | たまり",
           15
          ]
         ],
         "hovertemplate": "<b>Topic %{customdata[0]}</b><br>%{customdata[1]}<br>Size: %{customdata[2]}",
         "legendgroup": "",
         "marker": {
          "color": "#B0BEC5",
          "line": {
           "color": "DarkSlateGrey",
           "width": 2
          },
          "size": [
           369,
           100,
           86,
           58,
           45,
           35,
           33,
           33,
           22,
           20,
           20,
           19,
           15
          ],
          "sizemode": "area",
          "sizeref": 0.230625,
          "symbol": "circle"
         },
         "mode": "markers",
         "name": "",
         "orientation": "v",
         "showlegend": false,
         "type": "scatter",
         "x": [
          12.46545696258545,
          10.383099555969238,
          10.203350067138672,
          6.228095531463623,
          -0.6293245553970337,
          12.084174156188965,
          11.471433639526367,
          6.384961128234863,
          11.593603134155273,
          11.390551567077637,
          11.332254409790039,
          10.908628463745117,
          -0.7070547342300415
         ],
         "xaxis": "x",
         "y": [
          19.0462589263916,
          19.23264503479004,
          18.92344093322754,
          -6.254487991333008,
          6.250054359436035,
          19.400463104248047,
          17.07395362854004,
          -6.097623825073242,
          17.58427619934082,
          20.08850860595703,
          19.289241790771484,
          19.710186004638672,
          6.327735900878906
         ],
         "yaxis": "y"
        }
       ],
       "layout": {
        "annotations": [
         {
          "showarrow": false,
          "text": "D1",
          "x": -0.8131129443645477,
          "y": 7.954561853408813,
          "yshift": 10
         },
         {
          "showarrow": false,
          "text": "D2",
          "x": 6.761081281304359,
          "xshift": 10,
          "y": 23.101784896850585
         }
        ],
        "height": 650,
        "hoverlabel": {
         "bgcolor": "white",
         "font": {
          "family": "Rockwell",
          "size": 16
         }
        },
        "legend": {
         "itemsizing": "constant",
         "tracegroupgap": 0
        },
        "margin": {
         "t": 60
        },
        "shapes": [
         {
          "line": {
           "color": "#CFD8DC",
           "width": 2
          },
          "type": "line",
          "x0": 6.761081281304359,
          "x1": 6.761081281304359,
          "y0": -7.192661190032959,
          "y1": 23.101784896850585
         },
         {
          "line": {
           "color": "#9E9E9E",
           "width": 2
          },
          "type": "line",
          "x0": -0.8131129443645477,
          "x1": 14.335275506973266,
          "y0": 7.954561853408813,
          "y1": 7.954561853408813
         }
        ],
        "sliders": [
         {
          "active": 0,
          "pad": {
           "t": 50
          },
          "steps": [
           {
            "args": [
             {
              "marker.color": [
               [
                "red",
                "#B0BEC5",
                "#B0BEC5",
                "#B0BEC5",
                "#B0BEC5",
                "#B0BEC5",
                "#B0BEC5",
                "#B0BEC5",
                "#B0BEC5",
                "#B0BEC5",
                "#B0BEC5",
                "#B0BEC5",
                "#B0BEC5"
               ]
              ]
             }
            ],
            "label": "Topic 0",
            "method": "update"
           },
           {
            "args": [
             {
              "marker.color": [
               [
                "#B0BEC5",
                "red",
                "#B0BEC5",
                "#B0BEC5",
                "#B0BEC5",
                "#B0BEC5",
                "#B0BEC5",
                "#B0BEC5",
                "#B0BEC5",
                "#B0BEC5",
                "#B0BEC5",
                "#B0BEC5",
                "#B0BEC5"
               ]
              ]
             }
            ],
            "label": "Topic 1",
            "method": "update"
           },
           {
            "args": [
             {
              "marker.color": [
               [
                "#B0BEC5",
                "#B0BEC5",
                "red",
                "#B0BEC5",
                "#B0BEC5",
                "#B0BEC5",
                "#B0BEC5",
                "#B0BEC5",
                "#B0BEC5",
                "#B0BEC5",
                "#B0BEC5",
                "#B0BEC5",
                "#B0BEC5"
               ]
              ]
             }
            ],
            "label": "Topic 2",
            "method": "update"
           },
           {
            "args": [
             {
              "marker.color": [
               [
                "#B0BEC5",
                "#B0BEC5",
                "#B0BEC5",
                "red",
                "#B0BEC5",
                "#B0BEC5",
                "#B0BEC5",
                "#B0BEC5",
                "#B0BEC5",
                "#B0BEC5",
                "#B0BEC5",
                "#B0BEC5",
                "#B0BEC5"
               ]
              ]
             }
            ],
            "label": "Topic 3",
            "method": "update"
           },
           {
            "args": [
             {
              "marker.color": [
               [
                "#B0BEC5",
                "#B0BEC5",
                "#B0BEC5",
                "#B0BEC5",
                "red",
                "#B0BEC5",
                "#B0BEC5",
                "#B0BEC5",
                "#B0BEC5",
                "#B0BEC5",
                "#B0BEC5",
                "#B0BEC5",
                "#B0BEC5"
               ]
              ]
             }
            ],
            "label": "Topic 4",
            "method": "update"
           },
           {
            "args": [
             {
              "marker.color": [
               [
                "#B0BEC5",
                "#B0BEC5",
                "#B0BEC5",
                "#B0BEC5",
                "#B0BEC5",
                "red",
                "#B0BEC5",
                "#B0BEC5",
                "#B0BEC5",
                "#B0BEC5",
                "#B0BEC5",
                "#B0BEC5",
                "#B0BEC5"
               ]
              ]
             }
            ],
            "label": "Topic 5",
            "method": "update"
           },
           {
            "args": [
             {
              "marker.color": [
               [
                "#B0BEC5",
                "#B0BEC5",
                "#B0BEC5",
                "#B0BEC5",
                "#B0BEC5",
                "#B0BEC5",
                "red",
                "#B0BEC5",
                "#B0BEC5",
                "#B0BEC5",
                "#B0BEC5",
                "#B0BEC5",
                "#B0BEC5"
               ]
              ]
             }
            ],
            "label": "Topic 6",
            "method": "update"
           },
           {
            "args": [
             {
              "marker.color": [
               [
                "#B0BEC5",
                "#B0BEC5",
                "#B0BEC5",
                "#B0BEC5",
                "#B0BEC5",
                "#B0BEC5",
                "#B0BEC5",
                "red",
                "#B0BEC5",
                "#B0BEC5",
                "#B0BEC5",
                "#B0BEC5",
                "#B0BEC5"
               ]
              ]
             }
            ],
            "label": "Topic 7",
            "method": "update"
           },
           {
            "args": [
             {
              "marker.color": [
               [
                "#B0BEC5",
                "#B0BEC5",
                "#B0BEC5",
                "#B0BEC5",
                "#B0BEC5",
                "#B0BEC5",
                "#B0BEC5",
                "#B0BEC5",
                "red",
                "#B0BEC5",
                "#B0BEC5",
                "#B0BEC5",
                "#B0BEC5"
               ]
              ]
             }
            ],
            "label": "Topic 8",
            "method": "update"
           },
           {
            "args": [
             {
              "marker.color": [
               [
                "#B0BEC5",
                "#B0BEC5",
                "#B0BEC5",
                "#B0BEC5",
                "#B0BEC5",
                "#B0BEC5",
                "#B0BEC5",
                "#B0BEC5",
                "#B0BEC5",
                "red",
                "#B0BEC5",
                "#B0BEC5",
                "#B0BEC5"
               ]
              ]
             }
            ],
            "label": "Topic 9",
            "method": "update"
           },
           {
            "args": [
             {
              "marker.color": [
               [
                "#B0BEC5",
                "#B0BEC5",
                "#B0BEC5",
                "#B0BEC5",
                "#B0BEC5",
                "#B0BEC5",
                "#B0BEC5",
                "#B0BEC5",
                "#B0BEC5",
                "#B0BEC5",
                "red",
                "#B0BEC5",
                "#B0BEC5"
               ]
              ]
             }
            ],
            "label": "Topic 10",
            "method": "update"
           },
           {
            "args": [
             {
              "marker.color": [
               [
                "#B0BEC5",
                "#B0BEC5",
                "#B0BEC5",
                "#B0BEC5",
                "#B0BEC5",
                "#B0BEC5",
                "#B0BEC5",
                "#B0BEC5",
                "#B0BEC5",
                "#B0BEC5",
                "#B0BEC5",
                "red",
                "#B0BEC5"
               ]
              ]
             }
            ],
            "label": "Topic 11",
            "method": "update"
           },
           {
            "args": [
             {
              "marker.color": [
               [
                "#B0BEC5",
                "#B0BEC5",
                "#B0BEC5",
                "#B0BEC5",
                "#B0BEC5",
                "#B0BEC5",
                "#B0BEC5",
                "#B0BEC5",
                "#B0BEC5",
                "#B0BEC5",
                "#B0BEC5",
                "#B0BEC5",
                "red"
               ]
              ]
             }
            ],
            "label": "Topic 12",
            "method": "update"
           }
          ]
         }
        ],
        "template": {
         "data": {
          "bar": [
           {
            "error_x": {
             "color": "rgb(36,36,36)"
            },
            "error_y": {
             "color": "rgb(36,36,36)"
            },
            "marker": {
             "line": {
              "color": "white",
              "width": 0.5
             },
             "pattern": {
              "fillmode": "overlay",
              "size": 10,
              "solidity": 0.2
             }
            },
            "type": "bar"
           }
          ],
          "barpolar": [
           {
            "marker": {
             "line": {
              "color": "white",
              "width": 0.5
             },
             "pattern": {
              "fillmode": "overlay",
              "size": 10,
              "solidity": 0.2
             }
            },
            "type": "barpolar"
           }
          ],
          "carpet": [
           {
            "aaxis": {
             "endlinecolor": "rgb(36,36,36)",
             "gridcolor": "white",
             "linecolor": "white",
             "minorgridcolor": "white",
             "startlinecolor": "rgb(36,36,36)"
            },
            "baxis": {
             "endlinecolor": "rgb(36,36,36)",
             "gridcolor": "white",
             "linecolor": "white",
             "minorgridcolor": "white",
             "startlinecolor": "rgb(36,36,36)"
            },
            "type": "carpet"
           }
          ],
          "choropleth": [
           {
            "colorbar": {
             "outlinewidth": 1,
             "tickcolor": "rgb(36,36,36)",
             "ticks": "outside"
            },
            "type": "choropleth"
           }
          ],
          "contour": [
           {
            "colorbar": {
             "outlinewidth": 1,
             "tickcolor": "rgb(36,36,36)",
             "ticks": "outside"
            },
            "colorscale": [
             [
              0,
              "#440154"
             ],
             [
              0.1111111111111111,
              "#482878"
             ],
             [
              0.2222222222222222,
              "#3e4989"
             ],
             [
              0.3333333333333333,
              "#31688e"
             ],
             [
              0.4444444444444444,
              "#26828e"
             ],
             [
              0.5555555555555556,
              "#1f9e89"
             ],
             [
              0.6666666666666666,
              "#35b779"
             ],
             [
              0.7777777777777778,
              "#6ece58"
             ],
             [
              0.8888888888888888,
              "#b5de2b"
             ],
             [
              1,
              "#fde725"
             ]
            ],
            "type": "contour"
           }
          ],
          "contourcarpet": [
           {
            "colorbar": {
             "outlinewidth": 1,
             "tickcolor": "rgb(36,36,36)",
             "ticks": "outside"
            },
            "type": "contourcarpet"
           }
          ],
          "heatmap": [
           {
            "colorbar": {
             "outlinewidth": 1,
             "tickcolor": "rgb(36,36,36)",
             "ticks": "outside"
            },
            "colorscale": [
             [
              0,
              "#440154"
             ],
             [
              0.1111111111111111,
              "#482878"
             ],
             [
              0.2222222222222222,
              "#3e4989"
             ],
             [
              0.3333333333333333,
              "#31688e"
             ],
             [
              0.4444444444444444,
              "#26828e"
             ],
             [
              0.5555555555555556,
              "#1f9e89"
             ],
             [
              0.6666666666666666,
              "#35b779"
             ],
             [
              0.7777777777777778,
              "#6ece58"
             ],
             [
              0.8888888888888888,
              "#b5de2b"
             ],
             [
              1,
              "#fde725"
             ]
            ],
            "type": "heatmap"
           }
          ],
          "heatmapgl": [
           {
            "colorbar": {
             "outlinewidth": 1,
             "tickcolor": "rgb(36,36,36)",
             "ticks": "outside"
            },
            "colorscale": [
             [
              0,
              "#440154"
             ],
             [
              0.1111111111111111,
              "#482878"
             ],
             [
              0.2222222222222222,
              "#3e4989"
             ],
             [
              0.3333333333333333,
              "#31688e"
             ],
             [
              0.4444444444444444,
              "#26828e"
             ],
             [
              0.5555555555555556,
              "#1f9e89"
             ],
             [
              0.6666666666666666,
              "#35b779"
             ],
             [
              0.7777777777777778,
              "#6ece58"
             ],
             [
              0.8888888888888888,
              "#b5de2b"
             ],
             [
              1,
              "#fde725"
             ]
            ],
            "type": "heatmapgl"
           }
          ],
          "histogram": [
           {
            "marker": {
             "line": {
              "color": "white",
              "width": 0.6
             }
            },
            "type": "histogram"
           }
          ],
          "histogram2d": [
           {
            "colorbar": {
             "outlinewidth": 1,
             "tickcolor": "rgb(36,36,36)",
             "ticks": "outside"
            },
            "colorscale": [
             [
              0,
              "#440154"
             ],
             [
              0.1111111111111111,
              "#482878"
             ],
             [
              0.2222222222222222,
              "#3e4989"
             ],
             [
              0.3333333333333333,
              "#31688e"
             ],
             [
              0.4444444444444444,
              "#26828e"
             ],
             [
              0.5555555555555556,
              "#1f9e89"
             ],
             [
              0.6666666666666666,
              "#35b779"
             ],
             [
              0.7777777777777778,
              "#6ece58"
             ],
             [
              0.8888888888888888,
              "#b5de2b"
             ],
             [
              1,
              "#fde725"
             ]
            ],
            "type": "histogram2d"
           }
          ],
          "histogram2dcontour": [
           {
            "colorbar": {
             "outlinewidth": 1,
             "tickcolor": "rgb(36,36,36)",
             "ticks": "outside"
            },
            "colorscale": [
             [
              0,
              "#440154"
             ],
             [
              0.1111111111111111,
              "#482878"
             ],
             [
              0.2222222222222222,
              "#3e4989"
             ],
             [
              0.3333333333333333,
              "#31688e"
             ],
             [
              0.4444444444444444,
              "#26828e"
             ],
             [
              0.5555555555555556,
              "#1f9e89"
             ],
             [
              0.6666666666666666,
              "#35b779"
             ],
             [
              0.7777777777777778,
              "#6ece58"
             ],
             [
              0.8888888888888888,
              "#b5de2b"
             ],
             [
              1,
              "#fde725"
             ]
            ],
            "type": "histogram2dcontour"
           }
          ],
          "mesh3d": [
           {
            "colorbar": {
             "outlinewidth": 1,
             "tickcolor": "rgb(36,36,36)",
             "ticks": "outside"
            },
            "type": "mesh3d"
           }
          ],
          "parcoords": [
           {
            "line": {
             "colorbar": {
              "outlinewidth": 1,
              "tickcolor": "rgb(36,36,36)",
              "ticks": "outside"
             }
            },
            "type": "parcoords"
           }
          ],
          "pie": [
           {
            "automargin": true,
            "type": "pie"
           }
          ],
          "scatter": [
           {
            "fillpattern": {
             "fillmode": "overlay",
             "size": 10,
             "solidity": 0.2
            },
            "type": "scatter"
           }
          ],
          "scatter3d": [
           {
            "line": {
             "colorbar": {
              "outlinewidth": 1,
              "tickcolor": "rgb(36,36,36)",
              "ticks": "outside"
             }
            },
            "marker": {
             "colorbar": {
              "outlinewidth": 1,
              "tickcolor": "rgb(36,36,36)",
              "ticks": "outside"
             }
            },
            "type": "scatter3d"
           }
          ],
          "scattercarpet": [
           {
            "marker": {
             "colorbar": {
              "outlinewidth": 1,
              "tickcolor": "rgb(36,36,36)",
              "ticks": "outside"
             }
            },
            "type": "scattercarpet"
           }
          ],
          "scattergeo": [
           {
            "marker": {
             "colorbar": {
              "outlinewidth": 1,
              "tickcolor": "rgb(36,36,36)",
              "ticks": "outside"
             }
            },
            "type": "scattergeo"
           }
          ],
          "scattergl": [
           {
            "marker": {
             "colorbar": {
              "outlinewidth": 1,
              "tickcolor": "rgb(36,36,36)",
              "ticks": "outside"
             }
            },
            "type": "scattergl"
           }
          ],
          "scattermapbox": [
           {
            "marker": {
             "colorbar": {
              "outlinewidth": 1,
              "tickcolor": "rgb(36,36,36)",
              "ticks": "outside"
             }
            },
            "type": "scattermapbox"
           }
          ],
          "scatterpolar": [
           {
            "marker": {
             "colorbar": {
              "outlinewidth": 1,
              "tickcolor": "rgb(36,36,36)",
              "ticks": "outside"
             }
            },
            "type": "scatterpolar"
           }
          ],
          "scatterpolargl": [
           {
            "marker": {
             "colorbar": {
              "outlinewidth": 1,
              "tickcolor": "rgb(36,36,36)",
              "ticks": "outside"
             }
            },
            "type": "scatterpolargl"
           }
          ],
          "scatterternary": [
           {
            "marker": {
             "colorbar": {
              "outlinewidth": 1,
              "tickcolor": "rgb(36,36,36)",
              "ticks": "outside"
             }
            },
            "type": "scatterternary"
           }
          ],
          "surface": [
           {
            "colorbar": {
             "outlinewidth": 1,
             "tickcolor": "rgb(36,36,36)",
             "ticks": "outside"
            },
            "colorscale": [
             [
              0,
              "#440154"
             ],
             [
              0.1111111111111111,
              "#482878"
             ],
             [
              0.2222222222222222,
              "#3e4989"
             ],
             [
              0.3333333333333333,
              "#31688e"
             ],
             [
              0.4444444444444444,
              "#26828e"
             ],
             [
              0.5555555555555556,
              "#1f9e89"
             ],
             [
              0.6666666666666666,
              "#35b779"
             ],
             [
              0.7777777777777778,
              "#6ece58"
             ],
             [
              0.8888888888888888,
              "#b5de2b"
             ],
             [
              1,
              "#fde725"
             ]
            ],
            "type": "surface"
           }
          ],
          "table": [
           {
            "cells": {
             "fill": {
              "color": "rgb(237,237,237)"
             },
             "line": {
              "color": "white"
             }
            },
            "header": {
             "fill": {
              "color": "rgb(217,217,217)"
             },
             "line": {
              "color": "white"
             }
            },
            "type": "table"
           }
          ]
         },
         "layout": {
          "annotationdefaults": {
           "arrowhead": 0,
           "arrowwidth": 1
          },
          "autotypenumbers": "strict",
          "coloraxis": {
           "colorbar": {
            "outlinewidth": 1,
            "tickcolor": "rgb(36,36,36)",
            "ticks": "outside"
           }
          },
          "colorscale": {
           "diverging": [
            [
             0,
             "rgb(103,0,31)"
            ],
            [
             0.1,
             "rgb(178,24,43)"
            ],
            [
             0.2,
             "rgb(214,96,77)"
            ],
            [
             0.3,
             "rgb(244,165,130)"
            ],
            [
             0.4,
             "rgb(253,219,199)"
            ],
            [
             0.5,
             "rgb(247,247,247)"
            ],
            [
             0.6,
             "rgb(209,229,240)"
            ],
            [
             0.7,
             "rgb(146,197,222)"
            ],
            [
             0.8,
             "rgb(67,147,195)"
            ],
            [
             0.9,
             "rgb(33,102,172)"
            ],
            [
             1,
             "rgb(5,48,97)"
            ]
           ],
           "sequential": [
            [
             0,
             "#440154"
            ],
            [
             0.1111111111111111,
             "#482878"
            ],
            [
             0.2222222222222222,
             "#3e4989"
            ],
            [
             0.3333333333333333,
             "#31688e"
            ],
            [
             0.4444444444444444,
             "#26828e"
            ],
            [
             0.5555555555555556,
             "#1f9e89"
            ],
            [
             0.6666666666666666,
             "#35b779"
            ],
            [
             0.7777777777777778,
             "#6ece58"
            ],
            [
             0.8888888888888888,
             "#b5de2b"
            ],
            [
             1,
             "#fde725"
            ]
           ],
           "sequentialminus": [
            [
             0,
             "#440154"
            ],
            [
             0.1111111111111111,
             "#482878"
            ],
            [
             0.2222222222222222,
             "#3e4989"
            ],
            [
             0.3333333333333333,
             "#31688e"
            ],
            [
             0.4444444444444444,
             "#26828e"
            ],
            [
             0.5555555555555556,
             "#1f9e89"
            ],
            [
             0.6666666666666666,
             "#35b779"
            ],
            [
             0.7777777777777778,
             "#6ece58"
            ],
            [
             0.8888888888888888,
             "#b5de2b"
            ],
            [
             1,
             "#fde725"
            ]
           ]
          },
          "colorway": [
           "#1F77B4",
           "#FF7F0E",
           "#2CA02C",
           "#D62728",
           "#9467BD",
           "#8C564B",
           "#E377C2",
           "#7F7F7F",
           "#BCBD22",
           "#17BECF"
          ],
          "font": {
           "color": "rgb(36,36,36)"
          },
          "geo": {
           "bgcolor": "white",
           "lakecolor": "white",
           "landcolor": "white",
           "showlakes": true,
           "showland": true,
           "subunitcolor": "white"
          },
          "hoverlabel": {
           "align": "left"
          },
          "hovermode": "closest",
          "mapbox": {
           "style": "light"
          },
          "paper_bgcolor": "white",
          "plot_bgcolor": "white",
          "polar": {
           "angularaxis": {
            "gridcolor": "rgb(232,232,232)",
            "linecolor": "rgb(36,36,36)",
            "showgrid": false,
            "showline": true,
            "ticks": "outside"
           },
           "bgcolor": "white",
           "radialaxis": {
            "gridcolor": "rgb(232,232,232)",
            "linecolor": "rgb(36,36,36)",
            "showgrid": false,
            "showline": true,
            "ticks": "outside"
           }
          },
          "scene": {
           "xaxis": {
            "backgroundcolor": "white",
            "gridcolor": "rgb(232,232,232)",
            "gridwidth": 2,
            "linecolor": "rgb(36,36,36)",
            "showbackground": true,
            "showgrid": false,
            "showline": true,
            "ticks": "outside",
            "zeroline": false,
            "zerolinecolor": "rgb(36,36,36)"
           },
           "yaxis": {
            "backgroundcolor": "white",
            "gridcolor": "rgb(232,232,232)",
            "gridwidth": 2,
            "linecolor": "rgb(36,36,36)",
            "showbackground": true,
            "showgrid": false,
            "showline": true,
            "ticks": "outside",
            "zeroline": false,
            "zerolinecolor": "rgb(36,36,36)"
           },
           "zaxis": {
            "backgroundcolor": "white",
            "gridcolor": "rgb(232,232,232)",
            "gridwidth": 2,
            "linecolor": "rgb(36,36,36)",
            "showbackground": true,
            "showgrid": false,
            "showline": true,
            "ticks": "outside",
            "zeroline": false,
            "zerolinecolor": "rgb(36,36,36)"
           }
          },
          "shapedefaults": {
           "fillcolor": "black",
           "line": {
            "width": 0
           },
           "opacity": 0.3
          },
          "ternary": {
           "aaxis": {
            "gridcolor": "rgb(232,232,232)",
            "linecolor": "rgb(36,36,36)",
            "showgrid": false,
            "showline": true,
            "ticks": "outside"
           },
           "baxis": {
            "gridcolor": "rgb(232,232,232)",
            "linecolor": "rgb(36,36,36)",
            "showgrid": false,
            "showline": true,
            "ticks": "outside"
           },
           "bgcolor": "white",
           "caxis": {
            "gridcolor": "rgb(232,232,232)",
            "linecolor": "rgb(36,36,36)",
            "showgrid": false,
            "showline": true,
            "ticks": "outside"
           }
          },
          "title": {
           "x": 0.05
          },
          "xaxis": {
           "automargin": true,
           "gridcolor": "rgb(232,232,232)",
           "linecolor": "rgb(36,36,36)",
           "showgrid": false,
           "showline": true,
           "ticks": "outside",
           "title": {
            "standoff": 15
           },
           "zeroline": false,
           "zerolinecolor": "rgb(36,36,36)"
          },
          "yaxis": {
           "automargin": true,
           "gridcolor": "rgb(232,232,232)",
           "linecolor": "rgb(36,36,36)",
           "showgrid": false,
           "showline": true,
           "ticks": "outside",
           "title": {
            "standoff": 15
           },
           "zeroline": false,
           "zerolinecolor": "rgb(36,36,36)"
          }
         }
        },
        "title": {
         "font": {
          "color": "Black",
          "size": 22
         },
         "text": "<b>Intertopic Distance Map</b>",
         "x": 0.5,
         "xanchor": "center",
         "y": 0.95,
         "yanchor": "top"
        },
        "width": 650,
        "xaxis": {
         "anchor": "y",
         "domain": [
          0,
          1
         ],
         "range": [
          -0.8131129443645477,
          14.335275506973266
         ],
         "title": {
          "text": ""
         },
         "visible": false
        },
        "yaxis": {
         "anchor": "x",
         "domain": [
          0,
          1
         ],
         "range": [
          -7.192661190032959,
          23.101784896850585
         ],
         "title": {
          "text": ""
         },
         "visible": false
        }
       }
      }
     },
     "metadata": {},
     "output_type": "display_data"
    }
   ],
   "source": [
    "topic_model.visualize_topics()"
   ]
  },
  {
   "cell_type": "code",
   "execution_count": 8,
   "metadata": {},
   "outputs": [
    {
     "data": {
      "application/vnd.plotly.v1+json": {
       "config": {
        "plotlyServerURL": "https://plot.ly"
       },
       "data": [
        {
         "hoverinfo": "text",
         "marker": {
          "color": "rgb(61,153,112)"
         },
         "mode": "lines",
         "type": "scatter",
         "x": [
          0,
          0.6774785389898768,
          0.6774785389898768,
          0
         ],
         "xaxis": "x",
         "y": [
          -15,
          -15,
          -25,
          -25
         ],
         "yaxis": "y"
        },
        {
         "hoverinfo": "text",
         "marker": {
          "color": "rgb(255,65,54)"
         },
         "mode": "lines",
         "type": "scatter",
         "x": [
          0,
          0.653207224808821,
          0.653207224808821,
          0
         ],
         "xaxis": "x",
         "y": [
          -45,
          -45,
          -55,
          -55
         ],
         "yaxis": "y"
        },
        {
         "hoverinfo": "text",
         "marker": {
          "color": "rgb(255,65,54)"
         },
         "mode": "lines",
         "type": "scatter",
         "x": [
          0,
          0.7609683547300502,
          0.7609683547300502,
          0.653207224808821
         ],
         "xaxis": "x",
         "y": [
          -35,
          -35,
          -50,
          -50
         ],
         "yaxis": "y"
        },
        {
         "hoverinfo": "text",
         "marker": {
          "color": "rgb(255,65,54)"
         },
         "mode": "lines",
         "type": "scatter",
         "x": [
          0,
          0.8087474810682662,
          0.8087474810682662,
          0
         ],
         "xaxis": "x",
         "y": [
          -65,
          -65,
          -75,
          -75
         ],
         "yaxis": "y"
        },
        {
         "hoverinfo": "text",
         "marker": {
          "color": "rgb(255,65,54)"
         },
         "mode": "lines",
         "type": "scatter",
         "x": [
          0.7609683547300502,
          0.853364338527068,
          0.853364338527068,
          0.8087474810682662
         ],
         "xaxis": "x",
         "y": [
          -42.5,
          -42.5,
          -70,
          -70
         ],
         "yaxis": "y"
        },
        {
         "hoverinfo": "text",
         "marker": {
          "color": "rgb(255,65,54)"
         },
         "mode": "lines",
         "type": "scatter",
         "x": [
          0,
          0.7391076837789994,
          0.7391076837789994,
          0
         ],
         "xaxis": "x",
         "y": [
          -85,
          -85,
          -95,
          -95
         ],
         "yaxis": "y"
        },
        {
         "hoverinfo": "text",
         "marker": {
          "color": "rgb(255,65,54)"
         },
         "mode": "lines",
         "type": "scatter",
         "x": [
          0.7391076837789994,
          0.9370939024914106,
          0.9370939024914106,
          0
         ],
         "xaxis": "x",
         "y": [
          -90,
          -90,
          -105,
          -105
         ],
         "yaxis": "y"
        },
        {
         "hoverinfo": "text",
         "marker": {
          "color": "rgb(255,65,54)"
         },
         "mode": "lines",
         "type": "scatter",
         "x": [
          0.853364338527068,
          0.9579452882846236,
          0.9579452882846236,
          0.9370939024914106
         ],
         "xaxis": "x",
         "y": [
          -56.25,
          -56.25,
          -97.5,
          -97.5
         ],
         "yaxis": "y"
        },
        {
         "hoverinfo": "text",
         "marker": {
          "color": "rgb(0,116,217)"
         },
         "mode": "lines",
         "type": "scatter",
         "x": [
          0.6774785389898768,
          1.0511823233935083,
          1.0511823233935083,
          0.9579452882846236
         ],
         "xaxis": "x",
         "y": [
          -20,
          -20,
          -76.875,
          -76.875
         ],
         "yaxis": "y"
        },
        {
         "hoverinfo": "text",
         "marker": {
          "color": "rgb(35,205,205)"
         },
         "mode": "lines",
         "type": "scatter",
         "x": [
          0,
          0.6106431207382712,
          0.6106431207382712,
          0
         ],
         "xaxis": "x",
         "y": [
          -115,
          -115,
          -125,
          -125
         ],
         "yaxis": "y"
        },
        {
         "hoverinfo": "text",
         "marker": {
          "color": "rgb(0,116,217)"
         },
         "mode": "lines",
         "type": "scatter",
         "x": [
          1.0511823233935083,
          1.0779044576706538,
          1.0779044576706538,
          0.6106431207382712
         ],
         "xaxis": "x",
         "y": [
          -48.4375,
          -48.4375,
          -120,
          -120
         ],
         "yaxis": "y"
        },
        {
         "hoverinfo": "text",
         "marker": {
          "color": "rgb(0,116,217)"
         },
         "mode": "lines",
         "type": "scatter",
         "x": [
          0,
          1.115317667335547,
          1.115317667335547,
          1.0779044576706538
         ],
         "xaxis": "x",
         "y": [
          -5,
          -5,
          -84.21875,
          -84.21875
         ],
         "yaxis": "y"
        }
       ],
       "layout": {
        "autosize": false,
        "height": 395,
        "hoverlabel": {
         "bgcolor": "white",
         "font": {
          "family": "Rockwell",
          "size": 16
         }
        },
        "hovermode": "closest",
        "plot_bgcolor": "#ECEFF1",
        "showlegend": false,
        "template": {
         "data": {
          "bar": [
           {
            "error_x": {
             "color": "#2a3f5f"
            },
            "error_y": {
             "color": "#2a3f5f"
            },
            "marker": {
             "line": {
              "color": "white",
              "width": 0.5
             },
             "pattern": {
              "fillmode": "overlay",
              "size": 10,
              "solidity": 0.2
             }
            },
            "type": "bar"
           }
          ],
          "barpolar": [
           {
            "marker": {
             "line": {
              "color": "white",
              "width": 0.5
             },
             "pattern": {
              "fillmode": "overlay",
              "size": 10,
              "solidity": 0.2
             }
            },
            "type": "barpolar"
           }
          ],
          "carpet": [
           {
            "aaxis": {
             "endlinecolor": "#2a3f5f",
             "gridcolor": "#C8D4E3",
             "linecolor": "#C8D4E3",
             "minorgridcolor": "#C8D4E3",
             "startlinecolor": "#2a3f5f"
            },
            "baxis": {
             "endlinecolor": "#2a3f5f",
             "gridcolor": "#C8D4E3",
             "linecolor": "#C8D4E3",
             "minorgridcolor": "#C8D4E3",
             "startlinecolor": "#2a3f5f"
            },
            "type": "carpet"
           }
          ],
          "choropleth": [
           {
            "colorbar": {
             "outlinewidth": 0,
             "ticks": ""
            },
            "type": "choropleth"
           }
          ],
          "contour": [
           {
            "colorbar": {
             "outlinewidth": 0,
             "ticks": ""
            },
            "colorscale": [
             [
              0,
              "#0d0887"
             ],
             [
              0.1111111111111111,
              "#46039f"
             ],
             [
              0.2222222222222222,
              "#7201a8"
             ],
             [
              0.3333333333333333,
              "#9c179e"
             ],
             [
              0.4444444444444444,
              "#bd3786"
             ],
             [
              0.5555555555555556,
              "#d8576b"
             ],
             [
              0.6666666666666666,
              "#ed7953"
             ],
             [
              0.7777777777777778,
              "#fb9f3a"
             ],
             [
              0.8888888888888888,
              "#fdca26"
             ],
             [
              1,
              "#f0f921"
             ]
            ],
            "type": "contour"
           }
          ],
          "contourcarpet": [
           {
            "colorbar": {
             "outlinewidth": 0,
             "ticks": ""
            },
            "type": "contourcarpet"
           }
          ],
          "heatmap": [
           {
            "colorbar": {
             "outlinewidth": 0,
             "ticks": ""
            },
            "colorscale": [
             [
              0,
              "#0d0887"
             ],
             [
              0.1111111111111111,
              "#46039f"
             ],
             [
              0.2222222222222222,
              "#7201a8"
             ],
             [
              0.3333333333333333,
              "#9c179e"
             ],
             [
              0.4444444444444444,
              "#bd3786"
             ],
             [
              0.5555555555555556,
              "#d8576b"
             ],
             [
              0.6666666666666666,
              "#ed7953"
             ],
             [
              0.7777777777777778,
              "#fb9f3a"
             ],
             [
              0.8888888888888888,
              "#fdca26"
             ],
             [
              1,
              "#f0f921"
             ]
            ],
            "type": "heatmap"
           }
          ],
          "heatmapgl": [
           {
            "colorbar": {
             "outlinewidth": 0,
             "ticks": ""
            },
            "colorscale": [
             [
              0,
              "#0d0887"
             ],
             [
              0.1111111111111111,
              "#46039f"
             ],
             [
              0.2222222222222222,
              "#7201a8"
             ],
             [
              0.3333333333333333,
              "#9c179e"
             ],
             [
              0.4444444444444444,
              "#bd3786"
             ],
             [
              0.5555555555555556,
              "#d8576b"
             ],
             [
              0.6666666666666666,
              "#ed7953"
             ],
             [
              0.7777777777777778,
              "#fb9f3a"
             ],
             [
              0.8888888888888888,
              "#fdca26"
             ],
             [
              1,
              "#f0f921"
             ]
            ],
            "type": "heatmapgl"
           }
          ],
          "histogram": [
           {
            "marker": {
             "pattern": {
              "fillmode": "overlay",
              "size": 10,
              "solidity": 0.2
             }
            },
            "type": "histogram"
           }
          ],
          "histogram2d": [
           {
            "colorbar": {
             "outlinewidth": 0,
             "ticks": ""
            },
            "colorscale": [
             [
              0,
              "#0d0887"
             ],
             [
              0.1111111111111111,
              "#46039f"
             ],
             [
              0.2222222222222222,
              "#7201a8"
             ],
             [
              0.3333333333333333,
              "#9c179e"
             ],
             [
              0.4444444444444444,
              "#bd3786"
             ],
             [
              0.5555555555555556,
              "#d8576b"
             ],
             [
              0.6666666666666666,
              "#ed7953"
             ],
             [
              0.7777777777777778,
              "#fb9f3a"
             ],
             [
              0.8888888888888888,
              "#fdca26"
             ],
             [
              1,
              "#f0f921"
             ]
            ],
            "type": "histogram2d"
           }
          ],
          "histogram2dcontour": [
           {
            "colorbar": {
             "outlinewidth": 0,
             "ticks": ""
            },
            "colorscale": [
             [
              0,
              "#0d0887"
             ],
             [
              0.1111111111111111,
              "#46039f"
             ],
             [
              0.2222222222222222,
              "#7201a8"
             ],
             [
              0.3333333333333333,
              "#9c179e"
             ],
             [
              0.4444444444444444,
              "#bd3786"
             ],
             [
              0.5555555555555556,
              "#d8576b"
             ],
             [
              0.6666666666666666,
              "#ed7953"
             ],
             [
              0.7777777777777778,
              "#fb9f3a"
             ],
             [
              0.8888888888888888,
              "#fdca26"
             ],
             [
              1,
              "#f0f921"
             ]
            ],
            "type": "histogram2dcontour"
           }
          ],
          "mesh3d": [
           {
            "colorbar": {
             "outlinewidth": 0,
             "ticks": ""
            },
            "type": "mesh3d"
           }
          ],
          "parcoords": [
           {
            "line": {
             "colorbar": {
              "outlinewidth": 0,
              "ticks": ""
             }
            },
            "type": "parcoords"
           }
          ],
          "pie": [
           {
            "automargin": true,
            "type": "pie"
           }
          ],
          "scatter": [
           {
            "fillpattern": {
             "fillmode": "overlay",
             "size": 10,
             "solidity": 0.2
            },
            "type": "scatter"
           }
          ],
          "scatter3d": [
           {
            "line": {
             "colorbar": {
              "outlinewidth": 0,
              "ticks": ""
             }
            },
            "marker": {
             "colorbar": {
              "outlinewidth": 0,
              "ticks": ""
             }
            },
            "type": "scatter3d"
           }
          ],
          "scattercarpet": [
           {
            "marker": {
             "colorbar": {
              "outlinewidth": 0,
              "ticks": ""
             }
            },
            "type": "scattercarpet"
           }
          ],
          "scattergeo": [
           {
            "marker": {
             "colorbar": {
              "outlinewidth": 0,
              "ticks": ""
             }
            },
            "type": "scattergeo"
           }
          ],
          "scattergl": [
           {
            "marker": {
             "colorbar": {
              "outlinewidth": 0,
              "ticks": ""
             }
            },
            "type": "scattergl"
           }
          ],
          "scattermapbox": [
           {
            "marker": {
             "colorbar": {
              "outlinewidth": 0,
              "ticks": ""
             }
            },
            "type": "scattermapbox"
           }
          ],
          "scatterpolar": [
           {
            "marker": {
             "colorbar": {
              "outlinewidth": 0,
              "ticks": ""
             }
            },
            "type": "scatterpolar"
           }
          ],
          "scatterpolargl": [
           {
            "marker": {
             "colorbar": {
              "outlinewidth": 0,
              "ticks": ""
             }
            },
            "type": "scatterpolargl"
           }
          ],
          "scatterternary": [
           {
            "marker": {
             "colorbar": {
              "outlinewidth": 0,
              "ticks": ""
             }
            },
            "type": "scatterternary"
           }
          ],
          "surface": [
           {
            "colorbar": {
             "outlinewidth": 0,
             "ticks": ""
            },
            "colorscale": [
             [
              0,
              "#0d0887"
             ],
             [
              0.1111111111111111,
              "#46039f"
             ],
             [
              0.2222222222222222,
              "#7201a8"
             ],
             [
              0.3333333333333333,
              "#9c179e"
             ],
             [
              0.4444444444444444,
              "#bd3786"
             ],
             [
              0.5555555555555556,
              "#d8576b"
             ],
             [
              0.6666666666666666,
              "#ed7953"
             ],
             [
              0.7777777777777778,
              "#fb9f3a"
             ],
             [
              0.8888888888888888,
              "#fdca26"
             ],
             [
              1,
              "#f0f921"
             ]
            ],
            "type": "surface"
           }
          ],
          "table": [
           {
            "cells": {
             "fill": {
              "color": "#EBF0F8"
             },
             "line": {
              "color": "white"
             }
            },
            "header": {
             "fill": {
              "color": "#C8D4E3"
             },
             "line": {
              "color": "white"
             }
            },
            "type": "table"
           }
          ]
         },
         "layout": {
          "annotationdefaults": {
           "arrowcolor": "#2a3f5f",
           "arrowhead": 0,
           "arrowwidth": 1
          },
          "autotypenumbers": "strict",
          "coloraxis": {
           "colorbar": {
            "outlinewidth": 0,
            "ticks": ""
           }
          },
          "colorscale": {
           "diverging": [
            [
             0,
             "#8e0152"
            ],
            [
             0.1,
             "#c51b7d"
            ],
            [
             0.2,
             "#de77ae"
            ],
            [
             0.3,
             "#f1b6da"
            ],
            [
             0.4,
             "#fde0ef"
            ],
            [
             0.5,
             "#f7f7f7"
            ],
            [
             0.6,
             "#e6f5d0"
            ],
            [
             0.7,
             "#b8e186"
            ],
            [
             0.8,
             "#7fbc41"
            ],
            [
             0.9,
             "#4d9221"
            ],
            [
             1,
             "#276419"
            ]
           ],
           "sequential": [
            [
             0,
             "#0d0887"
            ],
            [
             0.1111111111111111,
             "#46039f"
            ],
            [
             0.2222222222222222,
             "#7201a8"
            ],
            [
             0.3333333333333333,
             "#9c179e"
            ],
            [
             0.4444444444444444,
             "#bd3786"
            ],
            [
             0.5555555555555556,
             "#d8576b"
            ],
            [
             0.6666666666666666,
             "#ed7953"
            ],
            [
             0.7777777777777778,
             "#fb9f3a"
            ],
            [
             0.8888888888888888,
             "#fdca26"
            ],
            [
             1,
             "#f0f921"
            ]
           ],
           "sequentialminus": [
            [
             0,
             "#0d0887"
            ],
            [
             0.1111111111111111,
             "#46039f"
            ],
            [
             0.2222222222222222,
             "#7201a8"
            ],
            [
             0.3333333333333333,
             "#9c179e"
            ],
            [
             0.4444444444444444,
             "#bd3786"
            ],
            [
             0.5555555555555556,
             "#d8576b"
            ],
            [
             0.6666666666666666,
             "#ed7953"
            ],
            [
             0.7777777777777778,
             "#fb9f3a"
            ],
            [
             0.8888888888888888,
             "#fdca26"
            ],
            [
             1,
             "#f0f921"
            ]
           ]
          },
          "colorway": [
           "#636efa",
           "#EF553B",
           "#00cc96",
           "#ab63fa",
           "#FFA15A",
           "#19d3f3",
           "#FF6692",
           "#B6E880",
           "#FF97FF",
           "#FECB52"
          ],
          "font": {
           "color": "#2a3f5f"
          },
          "geo": {
           "bgcolor": "white",
           "lakecolor": "white",
           "landcolor": "white",
           "showlakes": true,
           "showland": true,
           "subunitcolor": "#C8D4E3"
          },
          "hoverlabel": {
           "align": "left"
          },
          "hovermode": "closest",
          "mapbox": {
           "style": "light"
          },
          "paper_bgcolor": "white",
          "plot_bgcolor": "white",
          "polar": {
           "angularaxis": {
            "gridcolor": "#EBF0F8",
            "linecolor": "#EBF0F8",
            "ticks": ""
           },
           "bgcolor": "white",
           "radialaxis": {
            "gridcolor": "#EBF0F8",
            "linecolor": "#EBF0F8",
            "ticks": ""
           }
          },
          "scene": {
           "xaxis": {
            "backgroundcolor": "white",
            "gridcolor": "#DFE8F3",
            "gridwidth": 2,
            "linecolor": "#EBF0F8",
            "showbackground": true,
            "ticks": "",
            "zerolinecolor": "#EBF0F8"
           },
           "yaxis": {
            "backgroundcolor": "white",
            "gridcolor": "#DFE8F3",
            "gridwidth": 2,
            "linecolor": "#EBF0F8",
            "showbackground": true,
            "ticks": "",
            "zerolinecolor": "#EBF0F8"
           },
           "zaxis": {
            "backgroundcolor": "white",
            "gridcolor": "#DFE8F3",
            "gridwidth": 2,
            "linecolor": "#EBF0F8",
            "showbackground": true,
            "ticks": "",
            "zerolinecolor": "#EBF0F8"
           }
          },
          "shapedefaults": {
           "line": {
            "color": "#2a3f5f"
           }
          },
          "ternary": {
           "aaxis": {
            "gridcolor": "#DFE8F3",
            "linecolor": "#A2B1C6",
            "ticks": ""
           },
           "baxis": {
            "gridcolor": "#DFE8F3",
            "linecolor": "#A2B1C6",
            "ticks": ""
           },
           "bgcolor": "white",
           "caxis": {
            "gridcolor": "#DFE8F3",
            "linecolor": "#A2B1C6",
            "ticks": ""
           }
          },
          "title": {
           "x": 0.05
          },
          "xaxis": {
           "automargin": true,
           "gridcolor": "#EBF0F8",
           "linecolor": "#EBF0F8",
           "ticks": "",
           "title": {
            "standoff": 15
           },
           "zerolinecolor": "#EBF0F8",
           "zerolinewidth": 2
          },
          "yaxis": {
           "automargin": true,
           "gridcolor": "#EBF0F8",
           "linecolor": "#EBF0F8",
           "ticks": "",
           "title": {
            "standoff": 15
           },
           "zerolinecolor": "#EBF0F8",
           "zerolinewidth": 2
          }
         }
        },
        "title": {
         "font": {
          "color": "Black",
          "size": 22
         },
         "text": "<b>Hierarchical Clustering</b>",
         "x": 0.5,
         "xanchor": "center",
         "yanchor": "top"
        },
        "width": 1000,
        "xaxis": {
         "mirror": "allticks",
         "rangemode": "tozero",
         "showgrid": false,
         "showline": true,
         "showticklabels": true,
         "ticks": "outside",
         "type": "linear",
         "zeroline": false
        },
        "yaxis": {
         "mirror": "allticks",
         "range": [
          -130,
          0
         ],
         "rangemode": "tozero",
         "showgrid": false,
         "showline": true,
         "showticklabels": true,
         "tickmode": "array",
         "ticks": "outside",
         "ticktext": [
          "0___",
          "12_ポイント_貯まら_貯まり",
          "4_ポイント_交換_不満",
          "9_時間_かかり_すぎ",
          "2_動画_再生_視聴",
          "1_広告_れる_表示",
          "10_良い_戻し_お知らせ",
          "11_問題_許可_ページ",
          "6_アプリ_こと_表示",
          "8_アップデート_インストール_バージョンアップ",
          "5_クイズ_難しい_難し",
          "3_fi_wi_wifi",
          "7_接続_自動_繋がり"
         ],
         "tickvals": [
          -5,
          -15,
          -25,
          -35,
          -45,
          -55,
          -65,
          -75,
          -85,
          -95,
          -105,
          -115,
          -125
         ],
         "type": "linear",
         "zeroline": false
        }
       }
      }
     },
     "metadata": {},
     "output_type": "display_data"
    }
   ],
   "source": [
    "topic_model.visualize_hierarchy()"
   ]
  },
  {
   "cell_type": "code",
   "execution_count": 9,
   "metadata": {},
   "outputs": [
    {
     "data": {
      "application/vnd.plotly.v1+json": {
       "config": {
        "plotlyServerURL": "https://plot.ly"
       },
       "data": [
        {
         "marker": {
          "color": "#D55E00"
         },
         "orientation": "h",
         "type": "bar",
         "x": [
          0.00001,
          0.00001,
          0.00001,
          0.00001,
          0.00001
         ],
         "xaxis": "x",
         "y": [
          "  ",
          "  ",
          "  ",
          "  ",
          "  "
         ],
         "yaxis": "y"
        },
        {
         "marker": {
          "color": "#0072B2"
         },
         "orientation": "h",
         "type": "bar",
         "x": [
          0.040897062362059,
          0.042277343847750504,
          0.042606869830495005,
          0.04304167039064068,
          0.17708685376888236
         ],
         "xaxis": "x2",
         "y": [
          "する  ",
          "多く  ",
          "表示  ",
          "れる  ",
          "広告  "
         ],
         "yaxis": "y2"
        },
        {
         "marker": {
          "color": "#CC79A7"
         },
         "orientation": "h",
         "type": "bar",
         "x": [
          0.05601031516892778,
          0.06499952291984956,
          0.09451822769630794,
          0.1273895713055067,
          0.20090752689026983
         ],
         "xaxis": "x3",
         "y": [
          "でき  ",
          "ポイント  ",
          "視聴  ",
          "再生  ",
          "動画  "
         ],
         "yaxis": "y3"
        },
        {
         "marker": {
          "color": "#E69F00"
         },
         "orientation": "h",
         "type": "bar",
         "x": [
          0.050962497061392185,
          0.10597258910045323,
          0.11439805871722973,
          0.17316444281886842,
          0.17316444281886842
         ],
         "xaxis": "x4",
         "y": [
          "繋がら  ",
          "接続  ",
          "wifi  ",
          "wi  ",
          "fi  "
         ],
         "yaxis": "y4"
        },
        {
         "marker": {
          "color": "#56B4E9"
         },
         "orientation": "h",
         "type": "bar",
         "x": [
          0.04589232275131502,
          0.04907951707228489,
          0.06697451914042364,
          0.13874608738855718,
          0.14965819136897093
         ],
         "xaxis": "x5",
         "y": [
          "でき  ",
          "こと  ",
          "不満  ",
          "交換  ",
          "ポイント  "
         ],
         "yaxis": "y5"
        },
        {
         "marker": {
          "color": "#009E73"
         },
         "orientation": "h",
         "type": "bar",
         "x": [
          0.08730377252752745,
          0.09264258660365153,
          0.12808427455399543,
          0.14066359030239806,
          0.15374894705997072
         ],
         "xaxis": "x6",
         "y": [
          "フリーズ  ",
          "難点  ",
          "難し  ",
          "難しい  ",
          "クイズ  "
         ],
         "yaxis": "y6"
        },
        {
         "marker": {
          "color": "#F0E442"
         },
         "orientation": "h",
         "type": "bar",
         "x": [
          0.0402782712499636,
          0.042060660641694635,
          0.048020905028326955,
          0.04836445126063571,
          0.21656785083779073
         ],
         "xaxis": "x7",
         "y": [
          "古い  ",
          "停止  ",
          "表示  ",
          "こと  ",
          "アプリ  "
         ],
         "yaxis": "y7"
        },
        {
         "marker": {
          "color": "#D55E00"
         },
         "orientation": "h",
         "type": "bar",
         "x": [
          0.061546989071400396,
          0.06156446859721928,
          0.06759159534011334,
          0.08390232684463678,
          0.23882194023728057
         ],
         "xaxis": "x8",
         "y": [
          "vpn  ",
          "悪い  ",
          "繋がり  ",
          "自動  ",
          "接続  "
         ],
         "yaxis": "y8"
        },
        {
         "marker": {
          "color": "#0072B2"
         },
         "orientation": "h",
         "type": "bar",
         "x": [
          0.07737100798846745,
          0.09590705307191545,
          0.10141572466101222,
          0.11295691431421073,
          0.19264825356030832
         ],
         "xaxis": "x9",
         "y": [
          "エラー  ",
          "なっ  ",
          "バージョンアップ  ",
          "インストール  ",
          "アップデート  "
         ],
         "yaxis": "y9"
        },
        {
         "marker": {
          "color": "#CC79A7"
         },
         "orientation": "h",
         "type": "bar",
         "x": [
          0.08146482396784405,
          0.10796178857175259,
          0.11707513118694185,
          0.1295541462861031,
          0.16447551776253158
         ],
         "xaxis": "x10",
         "y": [
          "ロード  ",
          "cm  ",
          "すぎ  ",
          "かかり  ",
          "時間  "
         ],
         "yaxis": "y10"
        },
        {
         "marker": {
          "color": "#E69F00"
         },
         "orientation": "h",
         "type": "bar",
         "x": [
          0.059280420546730876,
          0.06343079004481121,
          0.06549889880895109,
          0.06549889880895109,
          0.08511491648892051
         ],
         "xaxis": "x11",
         "y": [
          "獲得  ",
          "でき  ",
          "お知らせ  ",
          "戻し  ",
          "良い  "
         ],
         "yaxis": "y11"
        },
        {
         "marker": {
          "color": "#56B4E9"
         },
         "orientation": "h",
         "type": "bar",
         "x": [
          0.0846821300919452,
          0.0912881483692886,
          0.10283327113005321,
          0.10283327113005321,
          0.13085223925017508
         ],
         "xaxis": "x12",
         "y": [
          "状態  ",
          "ある  ",
          "ページ  ",
          "許可  ",
          "問題  "
         ],
         "yaxis": "y12"
        },
        {
         "marker": {
          "color": "#009E73"
         },
         "orientation": "h",
         "type": "bar",
         "x": [
          0.186969583872824,
          0.19392807608124074,
          0.23095126388712325,
          0.23492651516498295,
          0.2617845479118676
         ],
         "xaxis": "x13",
         "y": [
          "たまり  ",
          "にくい  ",
          "貯まり  ",
          "貯まら  ",
          "ポイント  "
         ],
         "yaxis": "y13"
        }
       ],
       "layout": {
        "annotations": [
         {
          "font": {
           "size": 16
          },
          "showarrow": false,
          "text": "Topic 0",
          "x": 0.0875,
          "xanchor": "center",
          "xref": "paper",
          "y": 1,
          "yanchor": "bottom",
          "yref": "paper"
         },
         {
          "font": {
           "size": 16
          },
          "showarrow": false,
          "text": "Topic 1",
          "x": 0.36250000000000004,
          "xanchor": "center",
          "xref": "paper",
          "y": 1,
          "yanchor": "bottom",
          "yref": "paper"
         },
         {
          "font": {
           "size": 16
          },
          "showarrow": false,
          "text": "Topic 2",
          "x": 0.6375000000000001,
          "xanchor": "center",
          "xref": "paper",
          "y": 1,
          "yanchor": "bottom",
          "yref": "paper"
         },
         {
          "font": {
           "size": 16
          },
          "showarrow": false,
          "text": "Topic 3",
          "x": 0.9125,
          "xanchor": "center",
          "xref": "paper",
          "y": 1,
          "yanchor": "bottom",
          "yref": "paper"
         },
         {
          "font": {
           "size": 16
          },
          "showarrow": false,
          "text": "Topic 4",
          "x": 0.0875,
          "xanchor": "center",
          "xref": "paper",
          "y": 0.7250000000000001,
          "yanchor": "bottom",
          "yref": "paper"
         },
         {
          "font": {
           "size": 16
          },
          "showarrow": false,
          "text": "Topic 5",
          "x": 0.36250000000000004,
          "xanchor": "center",
          "xref": "paper",
          "y": 0.7250000000000001,
          "yanchor": "bottom",
          "yref": "paper"
         },
         {
          "font": {
           "size": 16
          },
          "showarrow": false,
          "text": "Topic 6",
          "x": 0.6375000000000001,
          "xanchor": "center",
          "xref": "paper",
          "y": 0.7250000000000001,
          "yanchor": "bottom",
          "yref": "paper"
         },
         {
          "font": {
           "size": 16
          },
          "showarrow": false,
          "text": "Topic 7",
          "x": 0.9125,
          "xanchor": "center",
          "xref": "paper",
          "y": 0.7250000000000001,
          "yanchor": "bottom",
          "yref": "paper"
         },
         {
          "font": {
           "size": 16
          },
          "showarrow": false,
          "text": "Topic 8",
          "x": 0.0875,
          "xanchor": "center",
          "xref": "paper",
          "y": 0.45,
          "yanchor": "bottom",
          "yref": "paper"
         },
         {
          "font": {
           "size": 16
          },
          "showarrow": false,
          "text": "Topic 9",
          "x": 0.36250000000000004,
          "xanchor": "center",
          "xref": "paper",
          "y": 0.45,
          "yanchor": "bottom",
          "yref": "paper"
         },
         {
          "font": {
           "size": 16
          },
          "showarrow": false,
          "text": "Topic 10",
          "x": 0.6375000000000001,
          "xanchor": "center",
          "xref": "paper",
          "y": 0.45,
          "yanchor": "bottom",
          "yref": "paper"
         },
         {
          "font": {
           "size": 16
          },
          "showarrow": false,
          "text": "Topic 11",
          "x": 0.9125,
          "xanchor": "center",
          "xref": "paper",
          "y": 0.45,
          "yanchor": "bottom",
          "yref": "paper"
         },
         {
          "font": {
           "size": 16
          },
          "showarrow": false,
          "text": "Topic 12",
          "x": 0.0875,
          "xanchor": "center",
          "xref": "paper",
          "y": 0.175,
          "yanchor": "bottom",
          "yref": "paper"
         }
        ],
        "height": 1000,
        "hoverlabel": {
         "bgcolor": "white",
         "font": {
          "family": "Rockwell",
          "size": 16
         }
        },
        "showlegend": false,
        "template": {
         "data": {
          "bar": [
           {
            "error_x": {
             "color": "#2a3f5f"
            },
            "error_y": {
             "color": "#2a3f5f"
            },
            "marker": {
             "line": {
              "color": "white",
              "width": 0.5
             },
             "pattern": {
              "fillmode": "overlay",
              "size": 10,
              "solidity": 0.2
             }
            },
            "type": "bar"
           }
          ],
          "barpolar": [
           {
            "marker": {
             "line": {
              "color": "white",
              "width": 0.5
             },
             "pattern": {
              "fillmode": "overlay",
              "size": 10,
              "solidity": 0.2
             }
            },
            "type": "barpolar"
           }
          ],
          "carpet": [
           {
            "aaxis": {
             "endlinecolor": "#2a3f5f",
             "gridcolor": "#C8D4E3",
             "linecolor": "#C8D4E3",
             "minorgridcolor": "#C8D4E3",
             "startlinecolor": "#2a3f5f"
            },
            "baxis": {
             "endlinecolor": "#2a3f5f",
             "gridcolor": "#C8D4E3",
             "linecolor": "#C8D4E3",
             "minorgridcolor": "#C8D4E3",
             "startlinecolor": "#2a3f5f"
            },
            "type": "carpet"
           }
          ],
          "choropleth": [
           {
            "colorbar": {
             "outlinewidth": 0,
             "ticks": ""
            },
            "type": "choropleth"
           }
          ],
          "contour": [
           {
            "colorbar": {
             "outlinewidth": 0,
             "ticks": ""
            },
            "colorscale": [
             [
              0,
              "#0d0887"
             ],
             [
              0.1111111111111111,
              "#46039f"
             ],
             [
              0.2222222222222222,
              "#7201a8"
             ],
             [
              0.3333333333333333,
              "#9c179e"
             ],
             [
              0.4444444444444444,
              "#bd3786"
             ],
             [
              0.5555555555555556,
              "#d8576b"
             ],
             [
              0.6666666666666666,
              "#ed7953"
             ],
             [
              0.7777777777777778,
              "#fb9f3a"
             ],
             [
              0.8888888888888888,
              "#fdca26"
             ],
             [
              1,
              "#f0f921"
             ]
            ],
            "type": "contour"
           }
          ],
          "contourcarpet": [
           {
            "colorbar": {
             "outlinewidth": 0,
             "ticks": ""
            },
            "type": "contourcarpet"
           }
          ],
          "heatmap": [
           {
            "colorbar": {
             "outlinewidth": 0,
             "ticks": ""
            },
            "colorscale": [
             [
              0,
              "#0d0887"
             ],
             [
              0.1111111111111111,
              "#46039f"
             ],
             [
              0.2222222222222222,
              "#7201a8"
             ],
             [
              0.3333333333333333,
              "#9c179e"
             ],
             [
              0.4444444444444444,
              "#bd3786"
             ],
             [
              0.5555555555555556,
              "#d8576b"
             ],
             [
              0.6666666666666666,
              "#ed7953"
             ],
             [
              0.7777777777777778,
              "#fb9f3a"
             ],
             [
              0.8888888888888888,
              "#fdca26"
             ],
             [
              1,
              "#f0f921"
             ]
            ],
            "type": "heatmap"
           }
          ],
          "heatmapgl": [
           {
            "colorbar": {
             "outlinewidth": 0,
             "ticks": ""
            },
            "colorscale": [
             [
              0,
              "#0d0887"
             ],
             [
              0.1111111111111111,
              "#46039f"
             ],
             [
              0.2222222222222222,
              "#7201a8"
             ],
             [
              0.3333333333333333,
              "#9c179e"
             ],
             [
              0.4444444444444444,
              "#bd3786"
             ],
             [
              0.5555555555555556,
              "#d8576b"
             ],
             [
              0.6666666666666666,
              "#ed7953"
             ],
             [
              0.7777777777777778,
              "#fb9f3a"
             ],
             [
              0.8888888888888888,
              "#fdca26"
             ],
             [
              1,
              "#f0f921"
             ]
            ],
            "type": "heatmapgl"
           }
          ],
          "histogram": [
           {
            "marker": {
             "pattern": {
              "fillmode": "overlay",
              "size": 10,
              "solidity": 0.2
             }
            },
            "type": "histogram"
           }
          ],
          "histogram2d": [
           {
            "colorbar": {
             "outlinewidth": 0,
             "ticks": ""
            },
            "colorscale": [
             [
              0,
              "#0d0887"
             ],
             [
              0.1111111111111111,
              "#46039f"
             ],
             [
              0.2222222222222222,
              "#7201a8"
             ],
             [
              0.3333333333333333,
              "#9c179e"
             ],
             [
              0.4444444444444444,
              "#bd3786"
             ],
             [
              0.5555555555555556,
              "#d8576b"
             ],
             [
              0.6666666666666666,
              "#ed7953"
             ],
             [
              0.7777777777777778,
              "#fb9f3a"
             ],
             [
              0.8888888888888888,
              "#fdca26"
             ],
             [
              1,
              "#f0f921"
             ]
            ],
            "type": "histogram2d"
           }
          ],
          "histogram2dcontour": [
           {
            "colorbar": {
             "outlinewidth": 0,
             "ticks": ""
            },
            "colorscale": [
             [
              0,
              "#0d0887"
             ],
             [
              0.1111111111111111,
              "#46039f"
             ],
             [
              0.2222222222222222,
              "#7201a8"
             ],
             [
              0.3333333333333333,
              "#9c179e"
             ],
             [
              0.4444444444444444,
              "#bd3786"
             ],
             [
              0.5555555555555556,
              "#d8576b"
             ],
             [
              0.6666666666666666,
              "#ed7953"
             ],
             [
              0.7777777777777778,
              "#fb9f3a"
             ],
             [
              0.8888888888888888,
              "#fdca26"
             ],
             [
              1,
              "#f0f921"
             ]
            ],
            "type": "histogram2dcontour"
           }
          ],
          "mesh3d": [
           {
            "colorbar": {
             "outlinewidth": 0,
             "ticks": ""
            },
            "type": "mesh3d"
           }
          ],
          "parcoords": [
           {
            "line": {
             "colorbar": {
              "outlinewidth": 0,
              "ticks": ""
             }
            },
            "type": "parcoords"
           }
          ],
          "pie": [
           {
            "automargin": true,
            "type": "pie"
           }
          ],
          "scatter": [
           {
            "fillpattern": {
             "fillmode": "overlay",
             "size": 10,
             "solidity": 0.2
            },
            "type": "scatter"
           }
          ],
          "scatter3d": [
           {
            "line": {
             "colorbar": {
              "outlinewidth": 0,
              "ticks": ""
             }
            },
            "marker": {
             "colorbar": {
              "outlinewidth": 0,
              "ticks": ""
             }
            },
            "type": "scatter3d"
           }
          ],
          "scattercarpet": [
           {
            "marker": {
             "colorbar": {
              "outlinewidth": 0,
              "ticks": ""
             }
            },
            "type": "scattercarpet"
           }
          ],
          "scattergeo": [
           {
            "marker": {
             "colorbar": {
              "outlinewidth": 0,
              "ticks": ""
             }
            },
            "type": "scattergeo"
           }
          ],
          "scattergl": [
           {
            "marker": {
             "colorbar": {
              "outlinewidth": 0,
              "ticks": ""
             }
            },
            "type": "scattergl"
           }
          ],
          "scattermapbox": [
           {
            "marker": {
             "colorbar": {
              "outlinewidth": 0,
              "ticks": ""
             }
            },
            "type": "scattermapbox"
           }
          ],
          "scatterpolar": [
           {
            "marker": {
             "colorbar": {
              "outlinewidth": 0,
              "ticks": ""
             }
            },
            "type": "scatterpolar"
           }
          ],
          "scatterpolargl": [
           {
            "marker": {
             "colorbar": {
              "outlinewidth": 0,
              "ticks": ""
             }
            },
            "type": "scatterpolargl"
           }
          ],
          "scatterternary": [
           {
            "marker": {
             "colorbar": {
              "outlinewidth": 0,
              "ticks": ""
             }
            },
            "type": "scatterternary"
           }
          ],
          "surface": [
           {
            "colorbar": {
             "outlinewidth": 0,
             "ticks": ""
            },
            "colorscale": [
             [
              0,
              "#0d0887"
             ],
             [
              0.1111111111111111,
              "#46039f"
             ],
             [
              0.2222222222222222,
              "#7201a8"
             ],
             [
              0.3333333333333333,
              "#9c179e"
             ],
             [
              0.4444444444444444,
              "#bd3786"
             ],
             [
              0.5555555555555556,
              "#d8576b"
             ],
             [
              0.6666666666666666,
              "#ed7953"
             ],
             [
              0.7777777777777778,
              "#fb9f3a"
             ],
             [
              0.8888888888888888,
              "#fdca26"
             ],
             [
              1,
              "#f0f921"
             ]
            ],
            "type": "surface"
           }
          ],
          "table": [
           {
            "cells": {
             "fill": {
              "color": "#EBF0F8"
             },
             "line": {
              "color": "white"
             }
            },
            "header": {
             "fill": {
              "color": "#C8D4E3"
             },
             "line": {
              "color": "white"
             }
            },
            "type": "table"
           }
          ]
         },
         "layout": {
          "annotationdefaults": {
           "arrowcolor": "#2a3f5f",
           "arrowhead": 0,
           "arrowwidth": 1
          },
          "autotypenumbers": "strict",
          "coloraxis": {
           "colorbar": {
            "outlinewidth": 0,
            "ticks": ""
           }
          },
          "colorscale": {
           "diverging": [
            [
             0,
             "#8e0152"
            ],
            [
             0.1,
             "#c51b7d"
            ],
            [
             0.2,
             "#de77ae"
            ],
            [
             0.3,
             "#f1b6da"
            ],
            [
             0.4,
             "#fde0ef"
            ],
            [
             0.5,
             "#f7f7f7"
            ],
            [
             0.6,
             "#e6f5d0"
            ],
            [
             0.7,
             "#b8e186"
            ],
            [
             0.8,
             "#7fbc41"
            ],
            [
             0.9,
             "#4d9221"
            ],
            [
             1,
             "#276419"
            ]
           ],
           "sequential": [
            [
             0,
             "#0d0887"
            ],
            [
             0.1111111111111111,
             "#46039f"
            ],
            [
             0.2222222222222222,
             "#7201a8"
            ],
            [
             0.3333333333333333,
             "#9c179e"
            ],
            [
             0.4444444444444444,
             "#bd3786"
            ],
            [
             0.5555555555555556,
             "#d8576b"
            ],
            [
             0.6666666666666666,
             "#ed7953"
            ],
            [
             0.7777777777777778,
             "#fb9f3a"
            ],
            [
             0.8888888888888888,
             "#fdca26"
            ],
            [
             1,
             "#f0f921"
            ]
           ],
           "sequentialminus": [
            [
             0,
             "#0d0887"
            ],
            [
             0.1111111111111111,
             "#46039f"
            ],
            [
             0.2222222222222222,
             "#7201a8"
            ],
            [
             0.3333333333333333,
             "#9c179e"
            ],
            [
             0.4444444444444444,
             "#bd3786"
            ],
            [
             0.5555555555555556,
             "#d8576b"
            ],
            [
             0.6666666666666666,
             "#ed7953"
            ],
            [
             0.7777777777777778,
             "#fb9f3a"
            ],
            [
             0.8888888888888888,
             "#fdca26"
            ],
            [
             1,
             "#f0f921"
            ]
           ]
          },
          "colorway": [
           "#636efa",
           "#EF553B",
           "#00cc96",
           "#ab63fa",
           "#FFA15A",
           "#19d3f3",
           "#FF6692",
           "#B6E880",
           "#FF97FF",
           "#FECB52"
          ],
          "font": {
           "color": "#2a3f5f"
          },
          "geo": {
           "bgcolor": "white",
           "lakecolor": "white",
           "landcolor": "white",
           "showlakes": true,
           "showland": true,
           "subunitcolor": "#C8D4E3"
          },
          "hoverlabel": {
           "align": "left"
          },
          "hovermode": "closest",
          "mapbox": {
           "style": "light"
          },
          "paper_bgcolor": "white",
          "plot_bgcolor": "white",
          "polar": {
           "angularaxis": {
            "gridcolor": "#EBF0F8",
            "linecolor": "#EBF0F8",
            "ticks": ""
           },
           "bgcolor": "white",
           "radialaxis": {
            "gridcolor": "#EBF0F8",
            "linecolor": "#EBF0F8",
            "ticks": ""
           }
          },
          "scene": {
           "xaxis": {
            "backgroundcolor": "white",
            "gridcolor": "#DFE8F3",
            "gridwidth": 2,
            "linecolor": "#EBF0F8",
            "showbackground": true,
            "ticks": "",
            "zerolinecolor": "#EBF0F8"
           },
           "yaxis": {
            "backgroundcolor": "white",
            "gridcolor": "#DFE8F3",
            "gridwidth": 2,
            "linecolor": "#EBF0F8",
            "showbackground": true,
            "ticks": "",
            "zerolinecolor": "#EBF0F8"
           },
           "zaxis": {
            "backgroundcolor": "white",
            "gridcolor": "#DFE8F3",
            "gridwidth": 2,
            "linecolor": "#EBF0F8",
            "showbackground": true,
            "ticks": "",
            "zerolinecolor": "#EBF0F8"
           }
          },
          "shapedefaults": {
           "line": {
            "color": "#2a3f5f"
           }
          },
          "ternary": {
           "aaxis": {
            "gridcolor": "#DFE8F3",
            "linecolor": "#A2B1C6",
            "ticks": ""
           },
           "baxis": {
            "gridcolor": "#DFE8F3",
            "linecolor": "#A2B1C6",
            "ticks": ""
           },
           "bgcolor": "white",
           "caxis": {
            "gridcolor": "#DFE8F3",
            "linecolor": "#A2B1C6",
            "ticks": ""
           }
          },
          "title": {
           "x": 0.05
          },
          "xaxis": {
           "automargin": true,
           "gridcolor": "#EBF0F8",
           "linecolor": "#EBF0F8",
           "ticks": "",
           "title": {
            "standoff": 15
           },
           "zerolinecolor": "#EBF0F8",
           "zerolinewidth": 2
          },
          "yaxis": {
           "automargin": true,
           "gridcolor": "#EBF0F8",
           "linecolor": "#EBF0F8",
           "ticks": "",
           "title": {
            "standoff": 15
           },
           "zerolinecolor": "#EBF0F8",
           "zerolinewidth": 2
          }
         }
        },
        "title": {
         "font": {
          "color": "Black",
          "size": 22
         },
         "text": "Topic Word Scores",
         "x": 0.5,
         "xanchor": "center",
         "yanchor": "top"
        },
        "width": 2000,
        "xaxis": {
         "anchor": "y",
         "domain": [
          0,
          0.175
         ],
         "showgrid": true
        },
        "xaxis10": {
         "anchor": "y10",
         "domain": [
          0.275,
          0.45
         ],
         "showgrid": true
        },
        "xaxis11": {
         "anchor": "y11",
         "domain": [
          0.55,
          0.7250000000000001
         ],
         "showgrid": true
        },
        "xaxis12": {
         "anchor": "y12",
         "domain": [
          0.825,
          1
         ],
         "showgrid": true
        },
        "xaxis13": {
         "anchor": "y13",
         "domain": [
          0,
          0.175
         ],
         "showgrid": true
        },
        "xaxis14": {
         "anchor": "y14",
         "domain": [
          0.275,
          0.45
         ],
         "showgrid": true
        },
        "xaxis15": {
         "anchor": "y15",
         "domain": [
          0.55,
          0.7250000000000001
         ],
         "showgrid": true
        },
        "xaxis16": {
         "anchor": "y16",
         "domain": [
          0.825,
          1
         ],
         "showgrid": true
        },
        "xaxis2": {
         "anchor": "y2",
         "domain": [
          0.275,
          0.45
         ],
         "showgrid": true
        },
        "xaxis3": {
         "anchor": "y3",
         "domain": [
          0.55,
          0.7250000000000001
         ],
         "showgrid": true
        },
        "xaxis4": {
         "anchor": "y4",
         "domain": [
          0.825,
          1
         ],
         "showgrid": true
        },
        "xaxis5": {
         "anchor": "y5",
         "domain": [
          0,
          0.175
         ],
         "showgrid": true
        },
        "xaxis6": {
         "anchor": "y6",
         "domain": [
          0.275,
          0.45
         ],
         "showgrid": true
        },
        "xaxis7": {
         "anchor": "y7",
         "domain": [
          0.55,
          0.7250000000000001
         ],
         "showgrid": true
        },
        "xaxis8": {
         "anchor": "y8",
         "domain": [
          0.825,
          1
         ],
         "showgrid": true
        },
        "xaxis9": {
         "anchor": "y9",
         "domain": [
          0,
          0.175
         ],
         "showgrid": true
        },
        "yaxis": {
         "anchor": "x",
         "domain": [
          0.825,
          1
         ],
         "showgrid": true
        },
        "yaxis10": {
         "anchor": "x10",
         "domain": [
          0.275,
          0.45
         ],
         "showgrid": true
        },
        "yaxis11": {
         "anchor": "x11",
         "domain": [
          0.275,
          0.45
         ],
         "showgrid": true
        },
        "yaxis12": {
         "anchor": "x12",
         "domain": [
          0.275,
          0.45
         ],
         "showgrid": true
        },
        "yaxis13": {
         "anchor": "x13",
         "domain": [
          0,
          0.175
         ],
         "showgrid": true
        },
        "yaxis14": {
         "anchor": "x14",
         "domain": [
          0,
          0.175
         ],
         "showgrid": true
        },
        "yaxis15": {
         "anchor": "x15",
         "domain": [
          0,
          0.175
         ],
         "showgrid": true
        },
        "yaxis16": {
         "anchor": "x16",
         "domain": [
          0,
          0.175
         ],
         "showgrid": true
        },
        "yaxis2": {
         "anchor": "x2",
         "domain": [
          0.825,
          1
         ],
         "showgrid": true
        },
        "yaxis3": {
         "anchor": "x3",
         "domain": [
          0.825,
          1
         ],
         "showgrid": true
        },
        "yaxis4": {
         "anchor": "x4",
         "domain": [
          0.825,
          1
         ],
         "showgrid": true
        },
        "yaxis5": {
         "anchor": "x5",
         "domain": [
          0.55,
          0.7250000000000001
         ],
         "showgrid": true
        },
        "yaxis6": {
         "anchor": "x6",
         "domain": [
          0.55,
          0.7250000000000001
         ],
         "showgrid": true
        },
        "yaxis7": {
         "anchor": "x7",
         "domain": [
          0.55,
          0.7250000000000001
         ],
         "showgrid": true
        },
        "yaxis8": {
         "anchor": "x8",
         "domain": [
          0.55,
          0.7250000000000001
         ],
         "showgrid": true
        },
        "yaxis9": {
         "anchor": "x9",
         "domain": [
          0.275,
          0.45
         ],
         "showgrid": true
        }
       }
      }
     },
     "metadata": {},
     "output_type": "display_data"
    }
   ],
   "source": [
    "topic_model.visualize_barchart(\n",
    "    top_n_topics=14,\n",
    "    width=500,  # 幅を広げる\n",
    ")"
   ]
  },
  {
   "cell_type": "code",
   "execution_count": 12,
   "metadata": {},
   "outputs": [
    {
     "data": {
      "text/html": [
       "<div>\n",
       "<style scoped>\n",
       "    .dataframe tbody tr th:only-of-type {\n",
       "        vertical-align: middle;\n",
       "    }\n",
       "\n",
       "    .dataframe tbody tr th {\n",
       "        vertical-align: top;\n",
       "    }\n",
       "\n",
       "    .dataframe thead th {\n",
       "        text-align: right;\n",
       "    }\n",
       "</style>\n",
       "<table border=\"1\" class=\"dataframe\">\n",
       "  <thead>\n",
       "    <tr style=\"text-align: right;\">\n",
       "      <th></th>\n",
       "      <th>id</th>\n",
       "      <th>userName</th>\n",
       "      <th>userImage</th>\n",
       "      <th>date</th>\n",
       "      <th>score</th>\n",
       "      <th>scoreText</th>\n",
       "      <th>url</th>\n",
       "      <th>title</th>\n",
       "      <th>text</th>\n",
       "      <th>replyDate</th>\n",
       "      <th>replyText</th>\n",
       "      <th>version</th>\n",
       "      <th>thumbsUp</th>\n",
       "      <th>criterias</th>\n",
       "      <th>positive_review</th>\n",
       "      <th>negative_review</th>\n",
       "      <th>positive_review_keywords</th>\n",
       "      <th>negative_review_keywords</th>\n",
       "      <th>topic</th>\n",
       "    </tr>\n",
       "  </thead>\n",
       "  <tbody>\n",
       "    <tr>\n",
       "      <th>0</th>\n",
       "      <td>9e31e6b7-605a-4b6b-9146-5a17644ba6b8</td>\n",
       "      <td>シュン</td>\n",
       "      <td>https://play-lh.googleusercontent.com/a/ACg8oc...</td>\n",
       "      <td>2024-11-23T14:01:42.496Z</td>\n",
       "      <td>1</td>\n",
       "      <td>1</td>\n",
       "      <td>https://play.google.com/store/apps/details?id=...</td>\n",
       "      <td>NaN</td>\n",
       "      <td>インストール済みアプリの広告動画で✕ボタンを押しそこねた場合、そのアプリが起動するのが凄く邪...</td>\n",
       "      <td>2024-09-16T08:11:04.465Z</td>\n",
       "      <td>いつもアプリをお使いいただき、ありがとうございます。\\n動画広告について、貴重なご意見を頂き...</td>\n",
       "      <td>9.6.2</td>\n",
       "      <td>70</td>\n",
       "      <td>[]</td>\n",
       "      <td>-</td>\n",
       "      <td>- インストール済みアプリの広告動画で✕ボタンを押しそこねるとそのアプリが起動し、これが非常...</td>\n",
       "      <td>[]</td>\n",
       "      <td>['インストール', '済み', 'アプリ', '広告', '動画', 'ボタン', '押し...</td>\n",
       "      <td>6</td>\n",
       "    </tr>\n",
       "    <tr>\n",
       "      <th>1</th>\n",
       "      <td>052823d1-61ed-4374-8a70-348fd02cd274</td>\n",
       "      <td>Asami Shikata</td>\n",
       "      <td>https://play-lh.googleusercontent.com/a/ACg8oc...</td>\n",
       "      <td>2024-11-23T11:00:06.814Z</td>\n",
       "      <td>3</td>\n",
       "      <td>3</td>\n",
       "      <td>https://play.google.com/store/apps/details?id=...</td>\n",
       "      <td>NaN</td>\n",
       "      <td>9.6.2 指摘した問題案件の改善されず。( 9.5.0 地図は表示される様になった、でも、...</td>\n",
       "      <td>2024-10-29T06:47:35.118Z</td>\n",
       "      <td>いつもアプリをお使いいただき、ありがとうございます！\\n地図のリストをタップしても非表示にな...</td>\n",
       "      <td>9.6.2</td>\n",
       "      <td>1</td>\n",
       "      <td>[{'criteria': 'vaf_never_display_disruptive_ad...</td>\n",
       "      <td>-</td>\n",
       "      <td>- 指摘した問題が改善されていない</td>\n",
       "      <td>[]</td>\n",
       "      <td>['指摘', 'し', '問題', '改善', 'さ', 'れ', 'い']</td>\n",
       "      <td>-1</td>\n",
       "    </tr>\n",
       "    <tr>\n",
       "      <th>2</th>\n",
       "      <td>2bd1806d-3415-4ac6-9db2-70800303fc48</td>\n",
       "      <td>酒井雄太</td>\n",
       "      <td>https://play-lh.googleusercontent.com/a-/ALV-U...</td>\n",
       "      <td>2024-11-22T21:54:44.660Z</td>\n",
       "      <td>4</td>\n",
       "      <td>4</td>\n",
       "      <td>https://play.google.com/store/apps/details?id=...</td>\n",
       "      <td>NaN</td>\n",
       "      <td>Wi-Fiがある場所で自動的に接続できるので便利だと思います。</td>\n",
       "      <td>NaN</td>\n",
       "      <td>NaN</td>\n",
       "      <td>NaN</td>\n",
       "      <td>0</td>\n",
       "      <td>[]</td>\n",
       "      <td>Wi-Fiがある場所で自動的に接続できるので便利。</td>\n",
       "      <td>-</td>\n",
       "      <td>['Wi-Fi', 'ある', '場所', '自動的', '接続', 'できる', '便利']</td>\n",
       "      <td>[]</td>\n",
       "      <td>0</td>\n",
       "    </tr>\n",
       "    <tr>\n",
       "      <th>3</th>\n",
       "      <td>62bedb1c-1dd6-4807-8544-a04ceda38826</td>\n",
       "      <td>菅原金二郎</td>\n",
       "      <td>https://play-lh.googleusercontent.com/a/ACg8oc...</td>\n",
       "      <td>2024-11-22T20:53:26.341Z</td>\n",
       "      <td>2</td>\n",
       "      <td>2</td>\n",
       "      <td>https://play.google.com/store/apps/details?id=...</td>\n",
       "      <td>NaN</td>\n",
       "      <td>CMが多い ５秒から30秒動画が流れます</td>\n",
       "      <td>NaN</td>\n",
       "      <td>NaN</td>\n",
       "      <td>9.6.2</td>\n",
       "      <td>0</td>\n",
       "      <td>[]</td>\n",
       "      <td>-</td>\n",
       "      <td>CMが多く、5秒から30秒の動画が流れる</td>\n",
       "      <td>[]</td>\n",
       "      <td>['CM', '多く', '5秒', '30秒', '動画', '流れる']</td>\n",
       "      <td>2</td>\n",
       "    </tr>\n",
       "    <tr>\n",
       "      <th>4</th>\n",
       "      <td>f67f4c45-f19c-4f7b-b792-6c703bb05915</td>\n",
       "      <td>みかん</td>\n",
       "      <td>https://play-lh.googleusercontent.com/a/ACg8oc...</td>\n",
       "      <td>2024-11-22T20:23:41.626Z</td>\n",
       "      <td>5</td>\n",
       "      <td>5</td>\n",
       "      <td>https://play.google.com/store/apps/details?id=...</td>\n",
       "      <td>NaN</td>\n",
       "      <td>モバイルスマホを使っていますが、ネット回線が無くてもGMOWiFiで問題なく 検索やネット回...</td>\n",
       "      <td>2024-11-25T01:08:32.912Z</td>\n",
       "      <td>いつもアプリをお使いいただき、ありがとうございます！\\n\\n外出時のWiFi利用にお役立てい...</td>\n",
       "      <td>9.6.2</td>\n",
       "      <td>0</td>\n",
       "      <td>[]</td>\n",
       "      <td>ネット回線が無くてもGMOWiFiで問題なく検索やネット回線が使用できるところ。</td>\n",
       "      <td>-</td>\n",
       "      <td>['ネット', '回線', '無く', 'GMOWiFi', '問題', '検索', 'ネッ...</td>\n",
       "      <td>[]</td>\n",
       "      <td>0</td>\n",
       "    </tr>\n",
       "    <tr>\n",
       "      <th>...</th>\n",
       "      <td>...</td>\n",
       "      <td>...</td>\n",
       "      <td>...</td>\n",
       "      <td>...</td>\n",
       "      <td>...</td>\n",
       "      <td>...</td>\n",
       "      <td>...</td>\n",
       "      <td>...</td>\n",
       "      <td>...</td>\n",
       "      <td>...</td>\n",
       "      <td>...</td>\n",
       "      <td>...</td>\n",
       "      <td>...</td>\n",
       "      <td>...</td>\n",
       "      <td>...</td>\n",
       "      <td>...</td>\n",
       "      <td>...</td>\n",
       "      <td>...</td>\n",
       "      <td>...</td>\n",
       "    </tr>\n",
       "    <tr>\n",
       "      <th>995</th>\n",
       "      <td>a9462ebd-6ac7-4920-8285-5922664d0592</td>\n",
       "      <td>印南勤</td>\n",
       "      <td>https://play-lh.googleusercontent.com/a/ACg8oc...</td>\n",
       "      <td>2024-04-10T15:56:08.523Z</td>\n",
       "      <td>4</td>\n",
       "      <td>4</td>\n",
       "      <td>https://play.google.com/store/apps/details?id=...</td>\n",
       "      <td>NaN</td>\n",
       "      <td>つながりがかなり良い</td>\n",
       "      <td>2024-04-14T06:40:17.733Z</td>\n",
       "      <td>いつもアプリをお使いいただき、ありがとうございます！\\n今後とも、タウンWiFiをよろしくお...</td>\n",
       "      <td>8.31.1</td>\n",
       "      <td>0</td>\n",
       "      <td>[{'criteria': 'vaf_phase1_file_sharing', 'rati...</td>\n",
       "      <td>つながりがかなり良い</td>\n",
       "      <td>-</td>\n",
       "      <td>['つながり', '良い']</td>\n",
       "      <td>[]</td>\n",
       "      <td>0</td>\n",
       "    </tr>\n",
       "    <tr>\n",
       "      <th>996</th>\n",
       "      <td>0733b493-a295-4cee-931c-144fcc1e44a0</td>\n",
       "      <td>三河のどか</td>\n",
       "      <td>https://play-lh.googleusercontent.com/a/ACg8oc...</td>\n",
       "      <td>2024-04-10T08:51:49.680Z</td>\n",
       "      <td>1</td>\n",
       "      <td>1</td>\n",
       "      <td>https://play.google.com/store/apps/details?id=...</td>\n",
       "      <td>NaN</td>\n",
       "      <td>ビックリするほどバッテリーの消耗が激しい。使わない時もバックグラウンドで動いているようで使わ...</td>\n",
       "      <td>NaN</td>\n",
       "      <td>NaN</td>\n",
       "      <td>NaN</td>\n",
       "      <td>8</td>\n",
       "      <td>[]</td>\n",
       "      <td>-</td>\n",
       "      <td>- バッテリーの消耗が激しい</td>\n",
       "      <td>[]</td>\n",
       "      <td>['バッテリー', '消耗', '激しい']</td>\n",
       "      <td>-1</td>\n",
       "    </tr>\n",
       "    <tr>\n",
       "      <th>997</th>\n",
       "      <td>90f66974-f8f9-44ef-9079-707cfd207c82</td>\n",
       "      <td>村上稔</td>\n",
       "      <td>https://play-lh.googleusercontent.com/a/ACg8oc...</td>\n",
       "      <td>2024-04-10T08:24:58.380Z</td>\n",
       "      <td>3</td>\n",
       "      <td>3</td>\n",
       "      <td>https://play.google.com/store/apps/details?id=...</td>\n",
       "      <td>NaN</td>\n",
       "      <td>又近い内に</td>\n",
       "      <td>NaN</td>\n",
       "      <td>NaN</td>\n",
       "      <td>NaN</td>\n",
       "      <td>0</td>\n",
       "      <td>[]</td>\n",
       "      <td>-</td>\n",
       "      <td>-</td>\n",
       "      <td>[]</td>\n",
       "      <td>[]</td>\n",
       "      <td>0</td>\n",
       "    </tr>\n",
       "    <tr>\n",
       "      <th>998</th>\n",
       "      <td>c417d407-b5f8-40c0-b074-f331e8aab9a6</td>\n",
       "      <td>沼津のトシ</td>\n",
       "      <td>https://play-lh.googleusercontent.com/a-/ALV-U...</td>\n",
       "      <td>2024-04-09T23:26:14.886Z</td>\n",
       "      <td>3</td>\n",
       "      <td>3</td>\n",
       "      <td>https://play.google.com/store/apps/details?id=...</td>\n",
       "      <td>NaN</td>\n",
       "      <td>スタンプをせっせと貯めていますが、いかんせん交換率が凄く低くて、3万ポイントがアマゾンポイン...</td>\n",
       "      <td>NaN</td>\n",
       "      <td>NaN</td>\n",
       "      <td>8.31.1</td>\n",
       "      <td>3</td>\n",
       "      <td>[]</td>\n",
       "      <td>-</td>\n",
       "      <td>スタンプの交換率が低く、3万ポイントをアマゾンポイントに変えると300ポイントで、13万ポイ...</td>\n",
       "      <td>[]</td>\n",
       "      <td>['スタンプ', '交換', '率', '低く', '3', '万', 'ポイント', 'ア...</td>\n",
       "      <td>4</td>\n",
       "    </tr>\n",
       "    <tr>\n",
       "      <th>999</th>\n",
       "      <td>25b69314-fa52-435d-be9b-786407c648fb</td>\n",
       "      <td>小谷浩介</td>\n",
       "      <td>https://play-lh.googleusercontent.com/a/ACg8oc...</td>\n",
       "      <td>2024-04-09T22:25:50.201Z</td>\n",
       "      <td>4</td>\n",
       "      <td>4</td>\n",
       "      <td>https://play.google.com/store/apps/details?id=...</td>\n",
       "      <td>NaN</td>\n",
       "      <td>無料でポイントが貯まるけど、動画を見ないとたまらない。でも、他のアプリに比べてぐキャンセル出...</td>\n",
       "      <td>2024-04-14T06:41:57.633Z</td>\n",
       "      <td>いつもアプリをお使いいただき、ありがとうございます！\\nポイントに関する貴重なご意見ありがと...</td>\n",
       "      <td>8.31.1</td>\n",
       "      <td>349</td>\n",
       "      <td>[]</td>\n",
       "      <td>-</td>\n",
       "      <td>-</td>\n",
       "      <td>[]</td>\n",
       "      <td>[]</td>\n",
       "      <td>0</td>\n",
       "    </tr>\n",
       "  </tbody>\n",
       "</table>\n",
       "<p>1000 rows × 19 columns</p>\n",
       "</div>"
      ],
      "text/plain": [
       "                                       id       userName  \\\n",
       "0    9e31e6b7-605a-4b6b-9146-5a17644ba6b8            シュン   \n",
       "1    052823d1-61ed-4374-8a70-348fd02cd274  Asami Shikata   \n",
       "2    2bd1806d-3415-4ac6-9db2-70800303fc48           酒井雄太   \n",
       "3    62bedb1c-1dd6-4807-8544-a04ceda38826          菅原金二郎   \n",
       "4    f67f4c45-f19c-4f7b-b792-6c703bb05915            みかん   \n",
       "..                                    ...            ...   \n",
       "995  a9462ebd-6ac7-4920-8285-5922664d0592            印南勤   \n",
       "996  0733b493-a295-4cee-931c-144fcc1e44a0          三河のどか   \n",
       "997  90f66974-f8f9-44ef-9079-707cfd207c82            村上稔   \n",
       "998  c417d407-b5f8-40c0-b074-f331e8aab9a6          沼津のトシ   \n",
       "999  25b69314-fa52-435d-be9b-786407c648fb           小谷浩介   \n",
       "\n",
       "                                             userImage  \\\n",
       "0    https://play-lh.googleusercontent.com/a/ACg8oc...   \n",
       "1    https://play-lh.googleusercontent.com/a/ACg8oc...   \n",
       "2    https://play-lh.googleusercontent.com/a-/ALV-U...   \n",
       "3    https://play-lh.googleusercontent.com/a/ACg8oc...   \n",
       "4    https://play-lh.googleusercontent.com/a/ACg8oc...   \n",
       "..                                                 ...   \n",
       "995  https://play-lh.googleusercontent.com/a/ACg8oc...   \n",
       "996  https://play-lh.googleusercontent.com/a/ACg8oc...   \n",
       "997  https://play-lh.googleusercontent.com/a/ACg8oc...   \n",
       "998  https://play-lh.googleusercontent.com/a-/ALV-U...   \n",
       "999  https://play-lh.googleusercontent.com/a/ACg8oc...   \n",
       "\n",
       "                         date  score  scoreText  \\\n",
       "0    2024-11-23T14:01:42.496Z      1          1   \n",
       "1    2024-11-23T11:00:06.814Z      3          3   \n",
       "2    2024-11-22T21:54:44.660Z      4          4   \n",
       "3    2024-11-22T20:53:26.341Z      2          2   \n",
       "4    2024-11-22T20:23:41.626Z      5          5   \n",
       "..                        ...    ...        ...   \n",
       "995  2024-04-10T15:56:08.523Z      4          4   \n",
       "996  2024-04-10T08:51:49.680Z      1          1   \n",
       "997  2024-04-10T08:24:58.380Z      3          3   \n",
       "998  2024-04-09T23:26:14.886Z      3          3   \n",
       "999  2024-04-09T22:25:50.201Z      4          4   \n",
       "\n",
       "                                                   url  title  \\\n",
       "0    https://play.google.com/store/apps/details?id=...    NaN   \n",
       "1    https://play.google.com/store/apps/details?id=...    NaN   \n",
       "2    https://play.google.com/store/apps/details?id=...    NaN   \n",
       "3    https://play.google.com/store/apps/details?id=...    NaN   \n",
       "4    https://play.google.com/store/apps/details?id=...    NaN   \n",
       "..                                                 ...    ...   \n",
       "995  https://play.google.com/store/apps/details?id=...    NaN   \n",
       "996  https://play.google.com/store/apps/details?id=...    NaN   \n",
       "997  https://play.google.com/store/apps/details?id=...    NaN   \n",
       "998  https://play.google.com/store/apps/details?id=...    NaN   \n",
       "999  https://play.google.com/store/apps/details?id=...    NaN   \n",
       "\n",
       "                                                  text  \\\n",
       "0    インストール済みアプリの広告動画で✕ボタンを押しそこねた場合、そのアプリが起動するのが凄く邪...   \n",
       "1    9.6.2 指摘した問題案件の改善されず。( 9.5.0 地図は表示される様になった、でも、...   \n",
       "2                      Wi-Fiがある場所で自動的に接続できるので便利だと思います。   \n",
       "3                                 CMが多い ５秒から30秒動画が流れます   \n",
       "4    モバイルスマホを使っていますが、ネット回線が無くてもGMOWiFiで問題なく 検索やネット回...   \n",
       "..                                                 ...   \n",
       "995                                         つながりがかなり良い   \n",
       "996  ビックリするほどバッテリーの消耗が激しい。使わない時もバックグラウンドで動いているようで使わ...   \n",
       "997                                              又近い内に   \n",
       "998  スタンプをせっせと貯めていますが、いかんせん交換率が凄く低くて、3万ポイントがアマゾンポイン...   \n",
       "999  無料でポイントが貯まるけど、動画を見ないとたまらない。でも、他のアプリに比べてぐキャンセル出...   \n",
       "\n",
       "                    replyDate  \\\n",
       "0    2024-09-16T08:11:04.465Z   \n",
       "1    2024-10-29T06:47:35.118Z   \n",
       "2                         NaN   \n",
       "3                         NaN   \n",
       "4    2024-11-25T01:08:32.912Z   \n",
       "..                        ...   \n",
       "995  2024-04-14T06:40:17.733Z   \n",
       "996                       NaN   \n",
       "997                       NaN   \n",
       "998                       NaN   \n",
       "999  2024-04-14T06:41:57.633Z   \n",
       "\n",
       "                                             replyText version  thumbsUp  \\\n",
       "0    いつもアプリをお使いいただき、ありがとうございます。\\n動画広告について、貴重なご意見を頂き...   9.6.2        70   \n",
       "1    いつもアプリをお使いいただき、ありがとうございます！\\n地図のリストをタップしても非表示にな...   9.6.2         1   \n",
       "2                                                  NaN     NaN         0   \n",
       "3                                                  NaN   9.6.2         0   \n",
       "4    いつもアプリをお使いいただき、ありがとうございます！\\n\\n外出時のWiFi利用にお役立てい...   9.6.2         0   \n",
       "..                                                 ...     ...       ...   \n",
       "995  いつもアプリをお使いいただき、ありがとうございます！\\n今後とも、タウンWiFiをよろしくお...  8.31.1         0   \n",
       "996                                                NaN     NaN         8   \n",
       "997                                                NaN     NaN         0   \n",
       "998                                                NaN  8.31.1         3   \n",
       "999  いつもアプリをお使いいただき、ありがとうございます！\\nポイントに関する貴重なご意見ありがと...  8.31.1       349   \n",
       "\n",
       "                                             criterias  \\\n",
       "0                                                   []   \n",
       "1    [{'criteria': 'vaf_never_display_disruptive_ad...   \n",
       "2                                                   []   \n",
       "3                                                   []   \n",
       "4                                                   []   \n",
       "..                                                 ...   \n",
       "995  [{'criteria': 'vaf_phase1_file_sharing', 'rati...   \n",
       "996                                                 []   \n",
       "997                                                 []   \n",
       "998                                                 []   \n",
       "999                                                 []   \n",
       "\n",
       "                              positive_review  \\\n",
       "0                                           -   \n",
       "1                                           -   \n",
       "2                 Wi-Fiがある場所で自動的に接続できるので便利。     \n",
       "3                                           -   \n",
       "4    ネット回線が無くてもGMOWiFiで問題なく検索やネット回線が使用できるところ。   \n",
       "..                                        ...   \n",
       "995                                つながりがかなり良い   \n",
       "996                                         -   \n",
       "997                                         -   \n",
       "998                                         -   \n",
       "999                                         -   \n",
       "\n",
       "                                       negative_review  \\\n",
       "0    - インストール済みアプリの広告動画で✕ボタンを押しそこねるとそのアプリが起動し、これが非常...   \n",
       "1                                    - 指摘した問題が改善されていない   \n",
       "2                                                    -   \n",
       "3                                 CMが多く、5秒から30秒の動画が流れる   \n",
       "4                                                    -   \n",
       "..                                                 ...   \n",
       "995                                                  -   \n",
       "996                                     - バッテリーの消耗が激しい   \n",
       "997                                                  -   \n",
       "998  スタンプの交換率が低く、3万ポイントをアマゾンポイントに変えると300ポイントで、13万ポイ...   \n",
       "999                                                  -   \n",
       "\n",
       "                              positive_review_keywords  \\\n",
       "0                                                   []   \n",
       "1                                                   []   \n",
       "2      ['Wi-Fi', 'ある', '場所', '自動的', '接続', 'できる', '便利']   \n",
       "3                                                   []   \n",
       "4    ['ネット', '回線', '無く', 'GMOWiFi', '問題', '検索', 'ネッ...   \n",
       "..                                                 ...   \n",
       "995                                     ['つながり', '良い']   \n",
       "996                                                 []   \n",
       "997                                                 []   \n",
       "998                                                 []   \n",
       "999                                                 []   \n",
       "\n",
       "                              negative_review_keywords  topic  \n",
       "0    ['インストール', '済み', 'アプリ', '広告', '動画', 'ボタン', '押し...      6  \n",
       "1               ['指摘', 'し', '問題', '改善', 'さ', 'れ', 'い']     -1  \n",
       "2                                                   []      0  \n",
       "3               ['CM', '多く', '5秒', '30秒', '動画', '流れる']      2  \n",
       "4                                                   []      0  \n",
       "..                                                 ...    ...  \n",
       "995                                                 []      0  \n",
       "996                             ['バッテリー', '消耗', '激しい']     -1  \n",
       "997                                                 []      0  \n",
       "998  ['スタンプ', '交換', '率', '低く', '3', '万', 'ポイント', 'ア...      4  \n",
       "999                                                 []      0  \n",
       "\n",
       "[1000 rows x 19 columns]"
      ]
     },
     "execution_count": 12,
     "metadata": {},
     "output_type": "execute_result"
    }
   ],
   "source": [
    "# topics, probs = topic_model.fit_transform(negative_review_keywords)の結果を元のデータに新たなカラムとして追加\n",
    "\n",
    "df['topic'] = topics\n",
    "\n",
    "df"
   ]
  }
 ],
 "metadata": {
  "kernelspec": {
   "display_name": "project-root-rWJ-GWg1-py3.10",
   "language": "python",
   "name": "python3"
  },
  "language_info": {
   "codemirror_mode": {
    "name": "ipython",
    "version": 3
   },
   "file_extension": ".py",
   "mimetype": "text/x-python",
   "name": "python",
   "nbconvert_exporter": "python",
   "pygments_lexer": "ipython3",
   "version": "3.10.12"
  }
 },
 "nbformat": 4,
 "nbformat_minor": 2
}
