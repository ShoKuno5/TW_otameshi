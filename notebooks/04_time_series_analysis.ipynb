{
 "cells": [
  {
   "cell_type": "markdown",
   "metadata": {},
   "source": [
    "# トピックについての時系列を分析する"
   ]
  },
  {
   "cell_type": "code",
   "execution_count": 1,
   "metadata": {},
   "outputs": [],
   "source": [
    "# 必要なライブラリをインポート\n",
    "import pandas as pd\n",
    "import numpy as np\n",
    "import re\n",
    "import matplotlib.pyplot as plt\n",
    "import json\n",
    "\n",
    "# Jupyter Notebook用の設定\n",
    "%matplotlib inline"
   ]
  },
  {
   "cell_type": "code",
   "execution_count": null,
   "metadata": {},
   "outputs": [],
   "source": [
    "# データを読み込む\n",
    "data_path = 'data/processed/android_cleaned_mecab_with_topics.csv'\n",
    "\n",
    "df = pd.read_csv(data_path)\n",
    "\n",
    "# データの確認\n",
    "df.head()"
   ]
  },
  {
   "cell_type": "code",
   "execution_count": null,
   "metadata": {},
   "outputs": [],
   "source": [
    "# 日付をdatetime型に変換\n",
    "df['date'] = pd.to_datetime(df['date'])\n",
    "\n",
    "# 週ごとのレビュー数をカウント\n",
    "df['week'] = df['date'].dt.to_period('W')\n",
    "\n",
    "# 週ごとのレビュー数をカウント\n",
    "\n",
    "weekly_review_counts = df.groupby(['week', 'topic_name']).size().reset_index(name='review_count')\n",
    "\n",
    "print(weekly_review_counts)"
   ]
  },
  {
   "cell_type": "code",
   "execution_count": null,
   "metadata": {},
   "outputs": [],
   "source": [
    "import matplotlib.pyplot as plt\n",
    "from matplotlib.ticker import MaxNLocator\n",
    "from matplotlib import rcParams\n",
    "\n",
    "# フォントをIPAフォントに設定\n",
    "rcParams['font.family'] = 'Hiragino Sans'\n",
    "\n",
    "# カラーマップから12色を取得\n",
    "colors = plt.cm.tab20.colors[:12]\n",
    "\n",
    "# プロット例\n",
    "fig, ax = plt.subplots(figsize=(15, 7))\n",
    "\n",
    "# トピックごとに色を設定\n",
    "for i, topic_name in enumerate(weekly_review_counts['topic_name'].unique()):\n",
    "    color = colors[i % len(colors)]  # 12色を循環\n",
    "    weekly_review_counts[weekly_review_counts['topic_name'] == topic_name].plot(\n",
    "        x='week', \n",
    "        y='review_count', \n",
    "        ax=ax, \n",
    "        label=topic_name, \n",
    "        color=color\n",
    "    )\n",
    "    \n",
    "    \n",
    "# 縦軸を整数に設定\n",
    "ax.yaxis.set_major_locator(MaxNLocator(integer=True))\n",
    "\n",
    "plt.title('週ごとのレビュー数', fontsize=16)  # 日本語タイトル\n",
    "plt.xlabel('週', fontsize=14)  # 日本語ラベル\n",
    "plt.ylabel('レビュー数', fontsize=14)  # 日本語ラベル\n",
    "plt.grid()\n",
    "plt.legend()\n",
    "plt.show()\n"
   ]
  },
  {
   "cell_type": "code",
   "execution_count": null,
   "metadata": {},
   "outputs": [],
   "source": [
    "# トピック11を追加する前にリセット\n",
    "top_topics = pd.Index(['1_広告_れる_表示_多く', '3_fi_wi_wifi_接続', '2_動画_再生_視聴_ポイント', '6_アプリ_こと_表示_停止',\n",
    "                       '5_クイズ_難しい_難し_難点'])\n",
    "\n",
    "# トピック11を追加\n",
    "top_topics = top_topics.append(pd.Index(['11_問題_許可_ページ_ある']))\n",
    "\n",
    "# トピック-1と0を除外\n",
    "pivot_df_filtered = pivot_df[top_topics]\n",
    "\n",
    "# プロット例\n",
    "fig, ax = plt.subplots(figsize=(15, 7))\n",
    "\n",
    "# 積み上げ棒グラフを作成\n",
    "pivot_df_filtered.plot(kind='bar', stacked=True, ax=ax, color=colors[:len(top_topics)])\n",
    "\n",
    "# 縦軸を整数に設定\n",
    "ax.yaxis.set_major_locator(MaxNLocator(integer=True))\n",
    "\n",
    "# 週のラベルを見やすくする\n",
    "ax.set_xticklabels(pivot_df_filtered.index.strftime('%Y-%m-%d'), rotation=45, ha='right')\n",
    "\n",
    "plt.title('週ごとのレビュー数', fontsize=16)  # 日本語タイトル\n",
    "plt.xlabel('週', fontsize=14)  # 日本語ラベル\n",
    "plt.ylabel('レビュー数', fontsize=14)  # 日本語ラベル\n",
    "plt.grid()\n",
    "plt.legend(title='トピック')\n",
    "plt.show()\n"
   ]
  }
 ],
 "metadata": {
  "kernelspec": {
   "display_name": "project-root-rWJ-GWg1-py3.10",
   "language": "python",
   "name": "python3"
  },
  "language_info": {
   "codemirror_mode": {
    "name": "ipython",
    "version": 3
   },
   "file_extension": ".py",
   "mimetype": "text/x-python",
   "name": "python",
   "nbconvert_exporter": "python",
   "pygments_lexer": "ipython3",
   "version": "3.10.12"
  }
 },
 "nbformat": 4,
 "nbformat_minor": 2
}
